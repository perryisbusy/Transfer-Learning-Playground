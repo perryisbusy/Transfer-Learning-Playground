{
 "cells": [
  {
   "cell_type": "markdown",
   "id": "40641dc0",
   "metadata": {},
   "source": [
    "# `WHEN Frequency for Activity AU Description`\n",
    "\n",
    "### `Created/Modified By: Z Liu`\n",
    " \n",
    "* `1, Rewrite architecture of the code`\n",
    "* `2, Fix a warning \"a value is trying to be set on a copy\"; using df.at[] or df.loc[] instead of df[][]`\n",
    "* `3, Modify code so as to capture adhoc & ad hoc` \n",
    "* `4, Add similarity attribute to compare predictions and ground truth`\n",
    "* `5, Modify code so as to capture WHEN containing conjunction such as annual and quarterly `\n",
    "* `6, Remove stop words on predictions and ground truth before comparing similarity`\n",
    "* `7, Modify code so as to capture WHEN containing ... as ... basis (monthly as needed basis)`\n",
    "* `8, Be able to capture bi-..., bi ..., bi... etc`\n",
    "* `9, Solve error, \"float is not subscriptable\", desc = str(desc)`\n",
    "* `10, Add confidence, starting index, ending index`"
   ]
  },
  {
   "cell_type": "code",
   "execution_count": 1,
   "id": "a70206ca",
   "metadata": {},
   "outputs": [
    {
     "name": "stderr",
     "output_type": "stream",
     "text": [
      "/home/mcafixmlpython/.local/lib/python3.6/site-packages/spacy/util.py:833: UserWarning: [W095] Model 'en_core_web_md' (3.0.0) was trained with spaCy v3.0 and may not be 100% compatible with the current version (3.2.1). If you see errors or degraded performance, download a newer compatible model or retrain your custom model with the current spaCy version. For more details and available updates, run: python -m spacy validate\n",
      "  warnings.warn(warn_msg)\n",
      "Some weights of the model checkpoint at /home/mcafixmlpython/lib/bert-base-nli-mean-tokens/ were not used when initializing BertModel: ['classifier.bias', 'classifier.weight']\n",
      "- This IS expected if you are initializing BertModel from the checkpoint of a model trained on another task or with another architecture (e.g. initializing a BertForSequenceClassification model from a BertForPreTraining model).\n",
      "- This IS NOT expected if you are initializing BertModel from the checkpoint of a model that you expect to be exactly identical (initializing a BertForSequenceClassification model from a BertForSequenceClassification model).\n"
     ]
    },
    {
     "name": "stdout",
     "output_type": "stream",
     "text": [
      "CPU times: user 8.66 s, sys: 2.9 s, total: 11.6 s\n",
      "Wall time: 9.45 s\n"
     ]
    }
   ],
   "source": [
    "%%time\n",
    "\n",
    "import os\n",
    "import re\n",
    "import torch\n",
    "import numpy as np\n",
    "import pandas as pd\n",
    "from tqdm import tqdm\n",
    "import matplotlib.pyplot as plt\n",
    "from sklearn.feature_extraction.text import TfidfVectorizer\n",
    "import torch.nn.functional as F\n",
    "\n",
    "# Deep Learning Libraries\n",
    "import spacy\n",
    "from transformers import BertForQuestionAnswering\n",
    "from transformers import BertTokenizer\n",
    "\n",
    "from sentence_transformers import SentenceTransformer\n",
    "from transformers import AutoTokenizer, AutoModel, AutoModelForQuestionAnswering,pipeline\n",
    "\n",
    "import nltk\n",
    "# nltk.data.path.append('/home/mca_fix/share/nltk_data/') \n",
    "nltk.data.path.append('/home/mcafixmlpython/lib/nltk_data/') \n",
    "from nltk.stem import WordNetLemmatizer\n",
    "wordnet_lemmatizer = WordNetLemmatizer()\n",
    "\n",
    "\n",
    "# nlp = spacy.load(\"/home/mca_fix/share/en_core_web_md-3.0.0/en_core_web_md/en_core_web_md-3.0.0\")\n",
    "nlp = spacy.load(\"/home/mcafixmlpython/lib/en_core_web_md-3.0.0/en_core_web_md/en_core_web_md-3.0.0\")\n",
    "\n",
    "# Loading BERT-BASE-NLI-MEAN-TOKENS for similarity\n",
    "\n",
    "# simi_PATH = '/home/mca_fix/share/bert-base-nli-mean-tokens/'\n",
    "simi_PATH = '/home/mcafixmlpython/lib/bert-base-nli-mean-tokens/'\n",
    "\n",
    "simi_tokenizer=AutoTokenizer.from_pretrained(simi_PATH)\n",
    "simi_model=AutoModel.from_pretrained(simi_PATH,local_files_only=True)\n",
    "\n",
    "import warnings\n",
    "warnings.filterwarnings('ignore')"
   ]
  },
  {
   "cell_type": "code",
   "execution_count": 2,
   "id": "abd35edd",
   "metadata": {},
   "outputs": [
    {
     "name": "stdout",
     "output_type": "stream",
     "text": [
      "CPU times: user 3 µs, sys: 2 µs, total: 5 µs\n",
      "Wall time: 8.58 µs\n"
     ]
    }
   ],
   "source": [
    "%%time\n",
    "\n",
    "def similar(sent):\n",
    "    tokens={'input_ids':[],'attention_mask':[]}\n",
    "    for sentence in sent:\n",
    "        new_tokens=simi_tokenizer.encode_plus(sentence,max_length=128,truncation=True,padding='max_length',return_tensors='pt')\n",
    "        tokens['input_ids'].append(new_tokens['input_ids'][0])\n",
    "        tokens['attention_mask'].append(new_tokens['attention_mask'][0])\n",
    "    #reformat list of tensors into single tensor\n",
    "    tokens['input_ids']=torch.stack(tokens['input_ids'])\n",
    "    tokens['attention_mask']=torch.stack(tokens['attention_mask'])\n",
    "    #processing tokens\n",
    "    outputs=simi_model(**tokens)\n",
    "    outputs.keys()\n",
    "    embeddings=outputs.last_hidden_state\n",
    "    attention_mask=tokens['attention_mask']\n",
    "    mask=attention_mask.unsqueeze(-1).expand(embeddings.size()).float()\n",
    "    masked_embeddings=embeddings * mask\n",
    "    summed = torch.sum(masked_embeddings,1)\n",
    "    summed_mask=torch.clamp(mask.sum(1),min=1e-9)\n",
    "    mean_pooled=summed/summed_mask\n",
    "    from sklearn.metrics.pairwise import cosine_similarity\n",
    "    mean_pooled=mean_pooled.detach().numpy()\n",
    "    x=cosine_similarity([mean_pooled[0]],mean_pooled[1:])\n",
    "    return x[0][0]"
   ]
  },
  {
   "cell_type": "code",
   "execution_count": 3,
   "id": "f9f868ee",
   "metadata": {},
   "outputs": [],
   "source": [
    "from nltk.corpus import stopwords\n",
    "\n",
    "def remove_stopwords(input_text):\n",
    "    #print(\"in remove_stopwords\\n\",input_text)\n",
    "       \n",
    "    stopwords_list = stopwords.words('english')\n",
    "    newStopWords = ['citi']\n",
    "    stopwords_list.extend(newStopWords)\n",
    "        \n",
    "    # Some words which might indicate a certain sentiment are kept via a whitelist\n",
    "    #whitelist = [\"n't\", \"not\", \"no\"]\n",
    "      \n",
    "    whitelist = [\"n't\"]\n",
    "    words = input_text.split() \n",
    "    clean_words = [word for word in words if (word not in stopwords_list or word in whitelist) and len(word) > 2]          \n",
    "    return \" \".join(clean_words)"
   ]
  },
  {
   "cell_type": "markdown",
   "id": "6ba0a095",
   "metadata": {},
   "source": [
    "### `1000 ARCMs.xlsx`"
   ]
  },
  {
   "cell_type": "code",
   "execution_count": 4,
   "id": "9a5dd2dd",
   "metadata": {},
   "outputs": [
    {
     "name": "stdout",
     "output_type": "stream",
     "text": [
      "(1000, 3)\n",
      "CPU times: user 2.52 s, sys: 33.8 ms, total: 2.56 s\n",
      "Wall time: 2.56 s\n"
     ]
    },
    {
     "data": {
      "text/html": [
       "<div>\n",
       "<style scoped>\n",
       "    .dataframe tbody tr th:only-of-type {\n",
       "        vertical-align: middle;\n",
       "    }\n",
       "\n",
       "    .dataframe tbody tr th {\n",
       "        vertical-align: top;\n",
       "    }\n",
       "\n",
       "    .dataframe thead th {\n",
       "        text-align: right;\n",
       "    }\n",
       "</style>\n",
       "<table border=\"1\" class=\"dataframe\">\n",
       "  <thead>\n",
       "    <tr style=\"text-align: right;\">\n",
       "      <th></th>\n",
       "      <th>Activity Instance Id (for AU)</th>\n",
       "      <th>Activity AU Description</th>\n",
       "      <th>Frequency of the activity</th>\n",
       "    </tr>\n",
       "  </thead>\n",
       "  <tbody>\n",
       "    <tr>\n",
       "      <th>0</th>\n",
       "      <td>709382.0</td>\n",
       "      <td>Model Development Data Sourcing: On a daily (e...</td>\n",
       "      <td>daily basis</td>\n",
       "    </tr>\n",
       "    <tr>\n",
       "      <th>1</th>\n",
       "      <td>709382.0</td>\n",
       "      <td>Model Development Data Sourcing: On a daily (e...</td>\n",
       "      <td>daily basis</td>\n",
       "    </tr>\n",
       "    <tr>\n",
       "      <th>2</th>\n",
       "      <td>709382.0</td>\n",
       "      <td>Model Development Data Sourcing: On a daily (e...</td>\n",
       "      <td>daily basis</td>\n",
       "    </tr>\n",
       "    <tr>\n",
       "      <th>3</th>\n",
       "      <td>709382.0</td>\n",
       "      <td>Model Development Data Sourcing: On a daily (e...</td>\n",
       "      <td>daily basis</td>\n",
       "    </tr>\n",
       "    <tr>\n",
       "      <th>4</th>\n",
       "      <td>709383.0</td>\n",
       "      <td>Model Development Data Sourcing confidential P...</td>\n",
       "      <td>daily basis</td>\n",
       "    </tr>\n",
       "  </tbody>\n",
       "</table>\n",
       "</div>"
      ],
      "text/plain": [
       "   Activity Instance Id (for AU)  \\\n",
       "0                       709382.0   \n",
       "1                       709382.0   \n",
       "2                       709382.0   \n",
       "3                       709382.0   \n",
       "4                       709383.0   \n",
       "\n",
       "                             Activity AU Description Frequency of the activity  \n",
       "0  Model Development Data Sourcing: On a daily (e...               daily basis  \n",
       "1  Model Development Data Sourcing: On a daily (e...               daily basis  \n",
       "2  Model Development Data Sourcing: On a daily (e...               daily basis  \n",
       "3  Model Development Data Sourcing: On a daily (e...               daily basis  \n",
       "4  Model Development Data Sourcing confidential P...               daily basis  "
      ]
     },
     "execution_count": 4,
     "metadata": {},
     "output_type": "execute_result"
    }
   ],
   "source": [
    "%%time \n",
    "\n",
    "df = pd.read_excel(io='1000 ARCMs.xlsx', sheet_name=\"1000 ARCMs\", engine='openpyxl')\n",
    "\n",
    "# df = df[df[\"Activity Description contains > 20 words\"] == \"Pass\"]\n",
    "df = df[[\"Activity Instance Id (for AU)\", \"Activity AU Description\", \"Frequency of the activity\"]]\n",
    "df.reset_index(drop=True, inplace=True)\n",
    "\n",
    "df.dropna(axis=0, inplace=True)\n",
    "\n",
    "# # coerce type conversion to every element of a DataFrame\n",
    "# df = df.applymap(str)\n",
    "\n",
    "# text preprocessing\n",
    "# df['Activity AU Description'] = df['Activity AU Description'].str.strip().str.lower()\n",
    "# df['Activity AU Description'] = df['Activity AU Description'].str.replace('[^\\w\\s]','') # semi-annual -> semiannual\n",
    "\n",
    "print(df.shape)\n",
    "df.head()"
   ]
  },
  {
   "cell_type": "code",
   "execution_count": 5,
   "id": "4ce6e48b",
   "metadata": {},
   "outputs": [],
   "source": [
    "when_frequency_lst = [\"daily\", \"weekly\", \n",
    "#                       \"biweekly\", \"realtime\", \"event driven\", # *** from control#\n",
    "                      \"monthly\", \"quarterly\", \"yearly\", \"semiannual\", \"semiannually\",\n",
    "                      \"annual\", # *** from activity# \"ongoing\", \"needed\", \n",
    "                      \"annually\", \n",
    "                      # outliers # \n",
    "                      \"each month\", \"every month\", \"calendar month\",  \n",
    "                      # \"needed basis\", \"required basis\",\n",
    "                      \"ad hoc\", \"adhoc\"]\n",
    "\n",
    "from typing import Tuple\n",
    "\n",
    "def activity_when(desc: str) -> Tuple[str, str, int, int]:\n",
    "    \"\"\"\n",
    "    \n",
    "    \n",
    "    \"\"\"\n",
    "    \n",
    "    # Text preprocessing\n",
    "    desc = str(desc)\n",
    "#     desc = re.sub('[^\\w\\s]', '', desc.strip().lower())\n",
    "    desc = desc.lower()\n",
    "    doc = nlp(desc)\n",
    "    \n",
    "    activity_when_answer = None\n",
    "    \n",
    "    \n",
    "    ########################### semi/bi, semi-annually, bi-weekly... ###########################\n",
    "    semi_bi = [\"semi\", \"bi\"]\n",
    "    for word in when_frequency_lst:\n",
    "        \n",
    "        for semi_bi_word in semi_bi:\n",
    "            \n",
    "            if f\"\"\"{semi_bi_word}-{word}\"\"\" in desc:\n",
    "        \n",
    "                activity_when_answer = f\"\"\"{semi_bi_word}-{word}\"\"\"\n",
    "        \n",
    "    \n",
    "    \n",
    "    ########################### annual and quarterly basis; adhoc or weekly basis... ########################### \n",
    "    for token in doc:\n",
    "        \n",
    "        # Exclude last three tokens \n",
    "        try:\n",
    "        \n",
    "            if (token.text in when_frequency_lst) and (doc[token.i+1].pos_ == \"CCONJ\") and (doc[token.i+2].text in when_frequency_lst) and (doc[token.i+3].text in [\"basis\", \"cadence\"]):\n",
    "                \n",
    "                span = \" \".join([doc[token.i].text, doc[token.i+1].text, doc[token.i+2].text, doc[token.i+3].text])\n",
    "\n",
    "                if any(word in when_frequency_lst for word in span.split()) and (activity_when_answer is None):\n",
    "  \n",
    "                    activity_when_answer = span\n",
    "        \n",
    "        except:\n",
    "            \n",
    "            pass\n",
    "    \n",
    "    \n",
    "    \n",
    "    ########################### on ... basis... ########################### \n",
    "    for token in doc:\n",
    "        \n",
    "        # Exclude the last token \n",
    "        try:\n",
    "            \n",
    "            if (token.text in when_frequency_lst) and (doc[token.i+1].text in [\"basis\", \"cadence\"]):\n",
    "                \n",
    "                # ... as ... basis (monthly as needed basis)\n",
    "                if doc[token.i-2].text in when_frequency_lst:\n",
    "                    \n",
    "                    span = \" \".join([doc[token.i-2].text, doc[token.i-1].text, token.text, doc[token.i+1].text])\n",
    "                \n",
    "                # on a/an ... basis ..\n",
    "                elif (doc[token.i-2].text == \"on\") and ((doc[token.i-1].text == \"a\") or (doc[token.i-1].text == \"an\")):\n",
    "                    \n",
    "                    span = \" \".join([doc[token.i-2].text, doc[token.i-1].text, token.text, doc[token.i+1].text])\n",
    "                \n",
    "                # on ... basis ...\n",
    "                elif doc[token.i-1].text == \"on\":\n",
    "                    \n",
    "                    span = \" \".join([doc[token.i-1].text, token.text, doc[token.i+1].text])\n",
    "                \n",
    "                else:\n",
    "                    \n",
    "                    span = \" \".join([token.text, doc[token.i+1].text])\n",
    "\n",
    "                if any(word in when_frequency_lst for word in span.split()) and (activity_when_answer is None):\n",
    "\n",
    "                        activity_when_answer = span\n",
    "        \n",
    "        except:\n",
    "            \n",
    "            pass\n",
    "            \n",
    "              \n",
    "    ########################### monthly, quarterly, annually, semi-annually... ###########################       \n",
    "    for token in doc:\n",
    "        \n",
    "        # Exclude the last token \n",
    "        try:\n",
    "        \n",
    "            if ((token.dep_ == \"amod\") and (token.pos_ == \"ADJ\")) or ((token.dep_ == \"advmod\") and (token.pos_ == \"ADV\")):\n",
    "                \n",
    "                span = token.text\n",
    "\n",
    "                if any(word in when_frequency_lst for word in span.split()) and (activity_when_answer is None):\n",
    "\n",
    "                    activity_when_answer = span\n",
    "        \n",
    "        except:\n",
    "            \n",
    "            pass\n",
    "                \n",
    "                \n",
    "                \n",
    "    ########################### other outliers... ###########################\n",
    "    if activity_when_answer is None:\n",
    "    \n",
    "        for word in when_frequency_lst:\n",
    "            \n",
    "            if word in desc:\n",
    "                \n",
    "                activity_when_answer = word\n",
    "    \n",
    "    \n",
    "    \n",
    "    ########################### confidence ###########################\n",
    "    if activity_when_answer is None:\n",
    "        \n",
    "        confidence = \"Low\"\n",
    "        \n",
    "    else:\n",
    "        \n",
    "        confidence = \"High\"\n",
    "        \n",
    "        \n",
    "        \n",
    "    ########################### starting index, ending index ###########################\n",
    "    if activity_when_answer is None:\n",
    "        \n",
    "        start, end = None, None\n",
    "    \n",
    "    else:\n",
    "        \n",
    "        start = desc.find(activity_when_answer)\n",
    "        \n",
    "        if start == -1:\n",
    "            \n",
    "            start, end = None, None\n",
    "        \n",
    "        else:\n",
    "            \n",
    "            end = start + len(activity_when_answer)\n",
    "        \n",
    "    \n",
    "    \n",
    "    return activity_when_answer, confidence, start, end"
   ]
  },
  {
   "cell_type": "code",
   "execution_count": 6,
   "id": "c2988877",
   "metadata": {},
   "outputs": [
    {
     "name": "stdout",
     "output_type": "stream",
     "text": [
      "CPU times: user 31.8 s, sys: 2.02 ms, total: 31.8 s\n",
      "Wall time: 31.8 s\n"
     ]
    }
   ],
   "source": [
    "%%time\n",
    "\n",
    "# df[\"when_ans_freq\"] = df[\"Activity AU Description\"].apply(func=activity_when)\n",
    "df[[\"when_ans_freq\", \"confidence\", \"start\", \"end\"]] = df[\"Activity AU Description\"].\\\n",
    "    apply(func=lambda row: activity_when(row)[0:4]).to_list()\n",
    "df[\"found\"] = (~df[\"when_ans_freq\"].isna())\n",
    "df['review_priority'] = np.where((df['found'] == False), \"High Priority Review because of Missing When Frequency\", \"No Need to Review\")      \n",
    "df['missing_or_not'] = np.where((df['found'] == False), \"Missing\", \"Not Missing\")"
   ]
  },
  {
   "cell_type": "code",
   "execution_count": 7,
   "id": "f9b921d9",
   "metadata": {},
   "outputs": [
    {
     "data": {
      "text/html": [
       "<div>\n",
       "<style scoped>\n",
       "    .dataframe tbody tr th:only-of-type {\n",
       "        vertical-align: middle;\n",
       "    }\n",
       "\n",
       "    .dataframe tbody tr th {\n",
       "        vertical-align: top;\n",
       "    }\n",
       "\n",
       "    .dataframe thead th {\n",
       "        text-align: right;\n",
       "    }\n",
       "</style>\n",
       "<table border=\"1\" class=\"dataframe\">\n",
       "  <thead>\n",
       "    <tr style=\"text-align: right;\">\n",
       "      <th></th>\n",
       "      <th>Frequency of the activity</th>\n",
       "      <th>when_ans_freq</th>\n",
       "    </tr>\n",
       "  </thead>\n",
       "  <tbody>\n",
       "    <tr>\n",
       "      <th>0</th>\n",
       "      <td>daily basis</td>\n",
       "      <td>daily</td>\n",
       "    </tr>\n",
       "    <tr>\n",
       "      <th>1</th>\n",
       "      <td>daily basis</td>\n",
       "      <td>daily</td>\n",
       "    </tr>\n",
       "    <tr>\n",
       "      <th>2</th>\n",
       "      <td>daily basis</td>\n",
       "      <td>daily</td>\n",
       "    </tr>\n",
       "    <tr>\n",
       "      <th>3</th>\n",
       "      <td>daily basis</td>\n",
       "      <td>daily</td>\n",
       "    </tr>\n",
       "    <tr>\n",
       "      <th>4</th>\n",
       "      <td>daily basis</td>\n",
       "      <td>on an daily basis</td>\n",
       "    </tr>\n",
       "    <tr>\n",
       "      <th>...</th>\n",
       "      <td>...</td>\n",
       "      <td>...</td>\n",
       "    </tr>\n",
       "    <tr>\n",
       "      <th>995</th>\n",
       "      <td>missing</td>\n",
       "      <td>None</td>\n",
       "    </tr>\n",
       "    <tr>\n",
       "      <th>996</th>\n",
       "      <td>missing</td>\n",
       "      <td>None</td>\n",
       "    </tr>\n",
       "    <tr>\n",
       "      <th>997</th>\n",
       "      <td>missing</td>\n",
       "      <td>None</td>\n",
       "    </tr>\n",
       "    <tr>\n",
       "      <th>998</th>\n",
       "      <td>missing</td>\n",
       "      <td>None</td>\n",
       "    </tr>\n",
       "    <tr>\n",
       "      <th>999</th>\n",
       "      <td>adhoc</td>\n",
       "      <td>adhoc</td>\n",
       "    </tr>\n",
       "  </tbody>\n",
       "</table>\n",
       "<p>1000 rows × 2 columns</p>\n",
       "</div>"
      ],
      "text/plain": [
       "    Frequency of the activity      when_ans_freq\n",
       "0                 daily basis              daily\n",
       "1                 daily basis              daily\n",
       "2                 daily basis              daily\n",
       "3                 daily basis              daily\n",
       "4                 daily basis  on an daily basis\n",
       "..                        ...                ...\n",
       "995                   missing               None\n",
       "996                   missing               None\n",
       "997                   missing               None\n",
       "998                   missing               None\n",
       "999                     adhoc              adhoc\n",
       "\n",
       "[1000 rows x 2 columns]"
      ]
     },
     "execution_count": 7,
     "metadata": {},
     "output_type": "execute_result"
    }
   ],
   "source": [
    "df[[\"Frequency of the activity\", \"when_ans_freq\"]]"
   ]
  },
  {
   "cell_type": "code",
   "execution_count": 8,
   "id": "fb84ce77",
   "metadata": {
    "scrolled": false
   },
   "outputs": [
    {
     "data": {
      "text/html": [
       "<div>\n",
       "<style scoped>\n",
       "    .dataframe tbody tr th:only-of-type {\n",
       "        vertical-align: middle;\n",
       "    }\n",
       "\n",
       "    .dataframe tbody tr th {\n",
       "        vertical-align: top;\n",
       "    }\n",
       "\n",
       "    .dataframe thead th {\n",
       "        text-align: right;\n",
       "    }\n",
       "</style>\n",
       "<table border=\"1\" class=\"dataframe\">\n",
       "  <thead>\n",
       "    <tr style=\"text-align: right;\">\n",
       "      <th></th>\n",
       "      <th>Activity Instance Id (for AU)</th>\n",
       "      <th>Activity AU Description</th>\n",
       "      <th>Frequency of the activity</th>\n",
       "      <th>when_ans_freq</th>\n",
       "      <th>confidence</th>\n",
       "      <th>start</th>\n",
       "      <th>end</th>\n",
       "      <th>found</th>\n",
       "      <th>review_priority</th>\n",
       "      <th>missing_or_not</th>\n",
       "    </tr>\n",
       "  </thead>\n",
       "  <tbody>\n",
       "    <tr>\n",
       "      <th>108</th>\n",
       "      <td>832522.0</td>\n",
       "      <td>CBORC Control - Onboarding: Onboarding is defi...</td>\n",
       "      <td>missing</td>\n",
       "      <td>None</td>\n",
       "      <td>Low</td>\n",
       "      <td>NaN</td>\n",
       "      <td>NaN</td>\n",
       "      <td>False</td>\n",
       "      <td>High Priority Review because of Missing When F...</td>\n",
       "      <td>Missing</td>\n",
       "    </tr>\n",
       "    <tr>\n",
       "      <th>160</th>\n",
       "      <td>894389.0</td>\n",
       "      <td>The Branded Cards Merchant Return Authorizatio...</td>\n",
       "      <td>missing</td>\n",
       "      <td>None</td>\n",
       "      <td>Low</td>\n",
       "      <td>NaN</td>\n",
       "      <td>NaN</td>\n",
       "      <td>False</td>\n",
       "      <td>High Priority Review because of Missing When F...</td>\n",
       "      <td>Missing</td>\n",
       "    </tr>\n",
       "    <tr>\n",
       "      <th>171</th>\n",
       "      <td>912722.0</td>\n",
       "      <td>Portfolio Quality Review. On a twice per quart...</td>\n",
       "      <td>twice per quarter cadence</td>\n",
       "      <td>None</td>\n",
       "      <td>Low</td>\n",
       "      <td>NaN</td>\n",
       "      <td>NaN</td>\n",
       "      <td>False</td>\n",
       "      <td>High Priority Review because of Missing When F...</td>\n",
       "      <td>Missing</td>\n",
       "    </tr>\n",
       "    <tr>\n",
       "      <th>182</th>\n",
       "      <td>925921.0</td>\n",
       "      <td>Disputed Tradeline Information in Suppression ...</td>\n",
       "      <td>missing</td>\n",
       "      <td>None</td>\n",
       "      <td>Low</td>\n",
       "      <td>NaN</td>\n",
       "      <td>NaN</td>\n",
       "      <td>False</td>\n",
       "      <td>High Priority Review because of Missing When F...</td>\n",
       "      <td>Missing</td>\n",
       "    </tr>\n",
       "    <tr>\n",
       "      <th>183</th>\n",
       "      <td>927041.0</td>\n",
       "      <td>Minimum Payment Due (MPD) – Branded Cards Risk...</td>\n",
       "      <td>missing</td>\n",
       "      <td>None</td>\n",
       "      <td>Low</td>\n",
       "      <td>NaN</td>\n",
       "      <td>NaN</td>\n",
       "      <td>False</td>\n",
       "      <td>High Priority Review because of Missing When F...</td>\n",
       "      <td>Missing</td>\n",
       "    </tr>\n",
       "    <tr>\n",
       "      <th>...</th>\n",
       "      <td>...</td>\n",
       "      <td>...</td>\n",
       "      <td>...</td>\n",
       "      <td>...</td>\n",
       "      <td>...</td>\n",
       "      <td>...</td>\n",
       "      <td>...</td>\n",
       "      <td>...</td>\n",
       "      <td>...</td>\n",
       "      <td>...</td>\n",
       "    </tr>\n",
       "    <tr>\n",
       "      <th>994</th>\n",
       "      <td>700454.0</td>\n",
       "      <td>(AU 504918 A 552962) ID_129973 Process Instanc...</td>\n",
       "      <td>missing</td>\n",
       "      <td>None</td>\n",
       "      <td>Low</td>\n",
       "      <td>NaN</td>\n",
       "      <td>NaN</td>\n",
       "      <td>False</td>\n",
       "      <td>High Priority Review because of Missing When F...</td>\n",
       "      <td>Missing</td>\n",
       "    </tr>\n",
       "    <tr>\n",
       "      <th>995</th>\n",
       "      <td>700456.0</td>\n",
       "      <td>(AU 504918 A 552911) ID_41450 Process Instance...</td>\n",
       "      <td>missing</td>\n",
       "      <td>None</td>\n",
       "      <td>Low</td>\n",
       "      <td>NaN</td>\n",
       "      <td>NaN</td>\n",
       "      <td>False</td>\n",
       "      <td>High Priority Review because of Missing When F...</td>\n",
       "      <td>Missing</td>\n",
       "    </tr>\n",
       "    <tr>\n",
       "      <th>996</th>\n",
       "      <td>702746.0</td>\n",
       "      <td>(AU 504918 A 552904) ID_177401 Process Instanc...</td>\n",
       "      <td>missing</td>\n",
       "      <td>None</td>\n",
       "      <td>Low</td>\n",
       "      <td>NaN</td>\n",
       "      <td>NaN</td>\n",
       "      <td>False</td>\n",
       "      <td>High Priority Review because of Missing When F...</td>\n",
       "      <td>Missing</td>\n",
       "    </tr>\n",
       "    <tr>\n",
       "      <th>997</th>\n",
       "      <td>702747.0</td>\n",
       "      <td>(AU 504918 A 552909) ID_177402 Process Instanc...</td>\n",
       "      <td>missing</td>\n",
       "      <td>None</td>\n",
       "      <td>Low</td>\n",
       "      <td>NaN</td>\n",
       "      <td>NaN</td>\n",
       "      <td>False</td>\n",
       "      <td>High Priority Review because of Missing When F...</td>\n",
       "      <td>Missing</td>\n",
       "    </tr>\n",
       "    <tr>\n",
       "      <th>998</th>\n",
       "      <td>702748.0</td>\n",
       "      <td>(AU 504918 A 553223) ID_177404 Process Instanc...</td>\n",
       "      <td>missing</td>\n",
       "      <td>None</td>\n",
       "      <td>Low</td>\n",
       "      <td>NaN</td>\n",
       "      <td>NaN</td>\n",
       "      <td>False</td>\n",
       "      <td>High Priority Review because of Missing When F...</td>\n",
       "      <td>Missing</td>\n",
       "    </tr>\n",
       "  </tbody>\n",
       "</table>\n",
       "<p>112 rows × 10 columns</p>\n",
       "</div>"
      ],
      "text/plain": [
       "     Activity Instance Id (for AU)  \\\n",
       "108                       832522.0   \n",
       "160                       894389.0   \n",
       "171                       912722.0   \n",
       "182                       925921.0   \n",
       "183                       927041.0   \n",
       "..                             ...   \n",
       "994                       700454.0   \n",
       "995                       700456.0   \n",
       "996                       702746.0   \n",
       "997                       702747.0   \n",
       "998                       702748.0   \n",
       "\n",
       "                               Activity AU Description  \\\n",
       "108  CBORC Control - Onboarding: Onboarding is defi...   \n",
       "160  The Branded Cards Merchant Return Authorizatio...   \n",
       "171  Portfolio Quality Review. On a twice per quart...   \n",
       "182  Disputed Tradeline Information in Suppression ...   \n",
       "183  Minimum Payment Due (MPD) – Branded Cards Risk...   \n",
       "..                                                 ...   \n",
       "994  (AU 504918 A 552962) ID_129973 Process Instanc...   \n",
       "995  (AU 504918 A 552911) ID_41450 Process Instance...   \n",
       "996  (AU 504918 A 552904) ID_177401 Process Instanc...   \n",
       "997  (AU 504918 A 552909) ID_177402 Process Instanc...   \n",
       "998  (AU 504918 A 553223) ID_177404 Process Instanc...   \n",
       "\n",
       "     Frequency of the activity when_ans_freq confidence  start  end  found  \\\n",
       "108                    missing          None        Low    NaN  NaN  False   \n",
       "160                    missing          None        Low    NaN  NaN  False   \n",
       "171  twice per quarter cadence          None        Low    NaN  NaN  False   \n",
       "182                    missing          None        Low    NaN  NaN  False   \n",
       "183                    missing          None        Low    NaN  NaN  False   \n",
       "..                         ...           ...        ...    ...  ...    ...   \n",
       "994                    missing          None        Low    NaN  NaN  False   \n",
       "995                    missing          None        Low    NaN  NaN  False   \n",
       "996                    missing          None        Low    NaN  NaN  False   \n",
       "997                    missing          None        Low    NaN  NaN  False   \n",
       "998                    missing          None        Low    NaN  NaN  False   \n",
       "\n",
       "                                       review_priority missing_or_not  \n",
       "108  High Priority Review because of Missing When F...        Missing  \n",
       "160  High Priority Review because of Missing When F...        Missing  \n",
       "171  High Priority Review because of Missing When F...        Missing  \n",
       "182  High Priority Review because of Missing When F...        Missing  \n",
       "183  High Priority Review because of Missing When F...        Missing  \n",
       "..                                                 ...            ...  \n",
       "994  High Priority Review because of Missing When F...        Missing  \n",
       "995  High Priority Review because of Missing When F...        Missing  \n",
       "996  High Priority Review because of Missing When F...        Missing  \n",
       "997  High Priority Review because of Missing When F...        Missing  \n",
       "998  High Priority Review because of Missing When F...        Missing  \n",
       "\n",
       "[112 rows x 10 columns]"
      ]
     },
     "execution_count": 8,
     "metadata": {},
     "output_type": "execute_result"
    }
   ],
   "source": [
    "df[df[\"found\"] == False]"
   ]
  },
  {
   "cell_type": "markdown",
   "id": "6adcfc32",
   "metadata": {},
   "source": [
    "### `similar()`"
   ]
  },
  {
   "cell_type": "code",
   "execution_count": 9,
   "id": "e7f3a6ac",
   "metadata": {},
   "outputs": [
    {
     "data": {
      "text/plain": [
       "0.9803053"
      ]
     },
     "execution_count": 9,
     "metadata": {},
     "output_type": "execute_result"
    }
   ],
   "source": [
    "similar(sent=[\"monthly basis\", \"on a monthly basis\"])"
   ]
  },
  {
   "cell_type": "code",
   "execution_count": 10,
   "id": "96f67563",
   "metadata": {},
   "outputs": [
    {
     "data": {
      "text/plain": [
       "0.85882294"
      ]
     },
     "execution_count": 10,
     "metadata": {},
     "output_type": "execute_result"
    }
   ],
   "source": [
    "similar(sent=[\"semi-annual\", \"on a semiannual basis\"])"
   ]
  },
  {
   "cell_type": "code",
   "execution_count": 11,
   "id": "a39320f2",
   "metadata": {},
   "outputs": [],
   "source": [
    "df[\"when_ans_freq\"] = df[\"when_ans_freq\"].apply(func=lambda row : \"missing\" if row is None else row)"
   ]
  },
  {
   "cell_type": "code",
   "execution_count": 12,
   "id": "056b6924",
   "metadata": {},
   "outputs": [
    {
     "name": "stdout",
     "output_type": "stream",
     "text": [
      "CPU times: user 20min 30s, sys: 41.8 s, total: 21min 12s\n",
      "Wall time: 3min 37s\n"
     ]
    }
   ],
   "source": [
    "%%time\n",
    "\n",
    "df[\"Frequency of the activity\"] = df[\"Frequency of the activity\"].str.strip().str.lower()\n",
    "df[\"when_ans_freq\"] = df[\"when_ans_freq\"].str.strip().str.lower()\n",
    "df[\"similarity\"] = df.apply(func=lambda row: similar(sent=[row[\"Frequency of the activity\"], row[\"when_ans_freq\"]]), \n",
    "                            axis=1)\n",
    "df[\"Frequency of the activity\"] = df[\"Frequency of the activity\"].apply(func=remove_stopwords)\n",
    "df[\"when_ans_freq\"] = df[\"when_ans_freq\"].apply(func=remove_stopwords)"
   ]
  },
  {
   "cell_type": "markdown",
   "id": "3a50dfdc",
   "metadata": {},
   "source": [
    "# `Conclusion:`"
   ]
  },
  {
   "cell_type": "markdown",
   "id": "c759333d",
   "metadata": {},
   "source": [
    "### `True Postive: 882 records`"
   ]
  },
  {
   "cell_type": "code",
   "execution_count": 13,
   "id": "7238f247",
   "metadata": {},
   "outputs": [
    {
     "name": "stdout",
     "output_type": "stream",
     "text": [
      "(881, 3)\n"
     ]
    },
    {
     "data": {
      "text/html": [
       "<div>\n",
       "<style scoped>\n",
       "    .dataframe tbody tr th:only-of-type {\n",
       "        vertical-align: middle;\n",
       "    }\n",
       "\n",
       "    .dataframe tbody tr th {\n",
       "        vertical-align: top;\n",
       "    }\n",
       "\n",
       "    .dataframe thead th {\n",
       "        text-align: right;\n",
       "    }\n",
       "</style>\n",
       "<table border=\"1\" class=\"dataframe\">\n",
       "  <thead>\n",
       "    <tr style=\"text-align: right;\">\n",
       "      <th></th>\n",
       "      <th>Frequency of the activity</th>\n",
       "      <th>when_ans_freq</th>\n",
       "      <th>similarity</th>\n",
       "    </tr>\n",
       "  </thead>\n",
       "  <tbody>\n",
       "    <tr>\n",
       "      <th>0</th>\n",
       "      <td>daily basis</td>\n",
       "      <td>daily</td>\n",
       "      <td>0.984745</td>\n",
       "    </tr>\n",
       "    <tr>\n",
       "      <th>1</th>\n",
       "      <td>daily basis</td>\n",
       "      <td>daily</td>\n",
       "      <td>0.984745</td>\n",
       "    </tr>\n",
       "    <tr>\n",
       "      <th>2</th>\n",
       "      <td>daily basis</td>\n",
       "      <td>daily</td>\n",
       "      <td>0.984745</td>\n",
       "    </tr>\n",
       "    <tr>\n",
       "      <th>3</th>\n",
       "      <td>daily basis</td>\n",
       "      <td>daily</td>\n",
       "      <td>0.984745</td>\n",
       "    </tr>\n",
       "    <tr>\n",
       "      <th>4</th>\n",
       "      <td>daily basis</td>\n",
       "      <td>daily basis</td>\n",
       "      <td>0.976222</td>\n",
       "    </tr>\n",
       "    <tr>\n",
       "      <th>...</th>\n",
       "      <td>...</td>\n",
       "      <td>...</td>\n",
       "      <td>...</td>\n",
       "    </tr>\n",
       "    <tr>\n",
       "      <th>984</th>\n",
       "      <td>quarterly basis</td>\n",
       "      <td>quarterly basis</td>\n",
       "      <td>0.982251</td>\n",
       "    </tr>\n",
       "    <tr>\n",
       "      <th>985</th>\n",
       "      <td>daily basis</td>\n",
       "      <td>daily basis</td>\n",
       "      <td>0.974561</td>\n",
       "    </tr>\n",
       "    <tr>\n",
       "      <th>989</th>\n",
       "      <td>daily basis</td>\n",
       "      <td>daily basis</td>\n",
       "      <td>0.974561</td>\n",
       "    </tr>\n",
       "    <tr>\n",
       "      <th>990</th>\n",
       "      <td>daily basis</td>\n",
       "      <td>daily basis</td>\n",
       "      <td>0.974561</td>\n",
       "    </tr>\n",
       "    <tr>\n",
       "      <th>999</th>\n",
       "      <td>adhoc</td>\n",
       "      <td>adhoc</td>\n",
       "      <td>1.000000</td>\n",
       "    </tr>\n",
       "  </tbody>\n",
       "</table>\n",
       "<p>881 rows × 3 columns</p>\n",
       "</div>"
      ],
      "text/plain": [
       "    Frequency of the activity    when_ans_freq  similarity\n",
       "0                 daily basis            daily    0.984745\n",
       "1                 daily basis            daily    0.984745\n",
       "2                 daily basis            daily    0.984745\n",
       "3                 daily basis            daily    0.984745\n",
       "4                 daily basis      daily basis    0.976222\n",
       "..                        ...              ...         ...\n",
       "984           quarterly basis  quarterly basis    0.982251\n",
       "985               daily basis      daily basis    0.974561\n",
       "989               daily basis      daily basis    0.974561\n",
       "990               daily basis      daily basis    0.974561\n",
       "999                     adhoc            adhoc    1.000000\n",
       "\n",
       "[881 rows x 3 columns]"
      ]
     },
     "execution_count": 13,
     "metadata": {},
     "output_type": "execute_result"
    }
   ],
   "source": [
    "tp = df[ (df[\"Frequency of the activity\"] != \"missing\") & (df[\"when_ans_freq\"] != \"missing\") ]\n",
    "tp = tp[[\"Frequency of the activity\", \"when_ans_freq\", \"similarity\"]]\n",
    "tp = tp.loc[tp[\"similarity\"] >= 0.80]\n",
    "print(tp.shape)\n",
    "tp"
   ]
  },
  {
   "cell_type": "markdown",
   "id": "064237e7",
   "metadata": {},
   "source": [
    "### `True Negative: 107 records`"
   ]
  },
  {
   "cell_type": "code",
   "execution_count": 14,
   "id": "2f093a12",
   "metadata": {},
   "outputs": [
    {
     "name": "stdout",
     "output_type": "stream",
     "text": [
      "(107, 3)\n"
     ]
    },
    {
     "data": {
      "text/html": [
       "<div>\n",
       "<style scoped>\n",
       "    .dataframe tbody tr th:only-of-type {\n",
       "        vertical-align: middle;\n",
       "    }\n",
       "\n",
       "    .dataframe tbody tr th {\n",
       "        vertical-align: top;\n",
       "    }\n",
       "\n",
       "    .dataframe thead th {\n",
       "        text-align: right;\n",
       "    }\n",
       "</style>\n",
       "<table border=\"1\" class=\"dataframe\">\n",
       "  <thead>\n",
       "    <tr style=\"text-align: right;\">\n",
       "      <th></th>\n",
       "      <th>Frequency of the activity</th>\n",
       "      <th>when_ans_freq</th>\n",
       "      <th>similarity</th>\n",
       "    </tr>\n",
       "  </thead>\n",
       "  <tbody>\n",
       "    <tr>\n",
       "      <th>108</th>\n",
       "      <td>missing</td>\n",
       "      <td>missing</td>\n",
       "      <td>1.0</td>\n",
       "    </tr>\n",
       "    <tr>\n",
       "      <th>160</th>\n",
       "      <td>missing</td>\n",
       "      <td>missing</td>\n",
       "      <td>1.0</td>\n",
       "    </tr>\n",
       "    <tr>\n",
       "      <th>182</th>\n",
       "      <td>missing</td>\n",
       "      <td>missing</td>\n",
       "      <td>1.0</td>\n",
       "    </tr>\n",
       "    <tr>\n",
       "      <th>183</th>\n",
       "      <td>missing</td>\n",
       "      <td>missing</td>\n",
       "      <td>1.0</td>\n",
       "    </tr>\n",
       "    <tr>\n",
       "      <th>184</th>\n",
       "      <td>missing</td>\n",
       "      <td>missing</td>\n",
       "      <td>1.0</td>\n",
       "    </tr>\n",
       "    <tr>\n",
       "      <th>...</th>\n",
       "      <td>...</td>\n",
       "      <td>...</td>\n",
       "      <td>...</td>\n",
       "    </tr>\n",
       "    <tr>\n",
       "      <th>994</th>\n",
       "      <td>missing</td>\n",
       "      <td>missing</td>\n",
       "      <td>1.0</td>\n",
       "    </tr>\n",
       "    <tr>\n",
       "      <th>995</th>\n",
       "      <td>missing</td>\n",
       "      <td>missing</td>\n",
       "      <td>1.0</td>\n",
       "    </tr>\n",
       "    <tr>\n",
       "      <th>996</th>\n",
       "      <td>missing</td>\n",
       "      <td>missing</td>\n",
       "      <td>1.0</td>\n",
       "    </tr>\n",
       "    <tr>\n",
       "      <th>997</th>\n",
       "      <td>missing</td>\n",
       "      <td>missing</td>\n",
       "      <td>1.0</td>\n",
       "    </tr>\n",
       "    <tr>\n",
       "      <th>998</th>\n",
       "      <td>missing</td>\n",
       "      <td>missing</td>\n",
       "      <td>1.0</td>\n",
       "    </tr>\n",
       "  </tbody>\n",
       "</table>\n",
       "<p>107 rows × 3 columns</p>\n",
       "</div>"
      ],
      "text/plain": [
       "    Frequency of the activity when_ans_freq  similarity\n",
       "108                   missing       missing         1.0\n",
       "160                   missing       missing         1.0\n",
       "182                   missing       missing         1.0\n",
       "183                   missing       missing         1.0\n",
       "184                   missing       missing         1.0\n",
       "..                        ...           ...         ...\n",
       "994                   missing       missing         1.0\n",
       "995                   missing       missing         1.0\n",
       "996                   missing       missing         1.0\n",
       "997                   missing       missing         1.0\n",
       "998                   missing       missing         1.0\n",
       "\n",
       "[107 rows x 3 columns]"
      ]
     },
     "execution_count": 14,
     "metadata": {},
     "output_type": "execute_result"
    }
   ],
   "source": [
    "tn = df[(df[\"Frequency of the activity\"] == \"missing\") & (df[\"when_ans_freq\"] == \"missing\") ]\n",
    "tn = tn[[\"Frequency of the activity\", \"when_ans_freq\", \"similarity\"]]\n",
    "print(tn.shape)\n",
    "tn"
   ]
  },
  {
   "cell_type": "markdown",
   "id": "fdad2dbc",
   "metadata": {},
   "source": [
    "### `False Positive: 6 records`"
   ]
  },
  {
   "cell_type": "code",
   "execution_count": 15,
   "id": "633f7607",
   "metadata": {},
   "outputs": [
    {
     "name": "stdout",
     "output_type": "stream",
     "text": [
      "(7, 4)\n"
     ]
    },
    {
     "data": {
      "text/html": [
       "<div>\n",
       "<style scoped>\n",
       "    .dataframe tbody tr th:only-of-type {\n",
       "        vertical-align: middle;\n",
       "    }\n",
       "\n",
       "    .dataframe tbody tr th {\n",
       "        vertical-align: top;\n",
       "    }\n",
       "\n",
       "    .dataframe thead th {\n",
       "        text-align: right;\n",
       "    }\n",
       "</style>\n",
       "<table border=\"1\" class=\"dataframe\">\n",
       "  <thead>\n",
       "    <tr style=\"text-align: right;\">\n",
       "      <th></th>\n",
       "      <th>Activity Instance Id (for AU)</th>\n",
       "      <th>Frequency of the activity</th>\n",
       "      <th>when_ans_freq</th>\n",
       "      <th>similarity</th>\n",
       "    </tr>\n",
       "  </thead>\n",
       "  <tbody>\n",
       "    <tr>\n",
       "      <th>693</th>\n",
       "      <td>945808.0</td>\n",
       "      <td>missing</td>\n",
       "      <td>daily</td>\n",
       "      <td>0.288967</td>\n",
       "    </tr>\n",
       "    <tr>\n",
       "      <th>694</th>\n",
       "      <td>945808.0</td>\n",
       "      <td>missing</td>\n",
       "      <td>daily</td>\n",
       "      <td>0.288967</td>\n",
       "    </tr>\n",
       "    <tr>\n",
       "      <th>752</th>\n",
       "      <td>1013621.0</td>\n",
       "      <td>adhoc basis</td>\n",
       "      <td>monthly</td>\n",
       "      <td>0.432944</td>\n",
       "    </tr>\n",
       "    <tr>\n",
       "      <th>753</th>\n",
       "      <td>1013621.0</td>\n",
       "      <td>adhoc basis</td>\n",
       "      <td>monthly</td>\n",
       "      <td>0.432944</td>\n",
       "    </tr>\n",
       "    <tr>\n",
       "      <th>754</th>\n",
       "      <td>1013621.0</td>\n",
       "      <td>adhoc basis</td>\n",
       "      <td>monthly</td>\n",
       "      <td>0.432944</td>\n",
       "    </tr>\n",
       "    <tr>\n",
       "      <th>755</th>\n",
       "      <td>1013621.0</td>\n",
       "      <td>adhoc basis</td>\n",
       "      <td>monthly</td>\n",
       "      <td>0.432944</td>\n",
       "    </tr>\n",
       "    <tr>\n",
       "      <th>756</th>\n",
       "      <td>1013621.0</td>\n",
       "      <td>adhoc basis</td>\n",
       "      <td>monthly</td>\n",
       "      <td>0.432944</td>\n",
       "    </tr>\n",
       "  </tbody>\n",
       "</table>\n",
       "</div>"
      ],
      "text/plain": [
       "     Activity Instance Id (for AU) Frequency of the activity when_ans_freq  \\\n",
       "693                       945808.0                   missing         daily   \n",
       "694                       945808.0                   missing         daily   \n",
       "752                      1013621.0               adhoc basis       monthly   \n",
       "753                      1013621.0               adhoc basis       monthly   \n",
       "754                      1013621.0               adhoc basis       monthly   \n",
       "755                      1013621.0               adhoc basis       monthly   \n",
       "756                      1013621.0               adhoc basis       monthly   \n",
       "\n",
       "     similarity  \n",
       "693    0.288967  \n",
       "694    0.288967  \n",
       "752    0.432944  \n",
       "753    0.432944  \n",
       "754    0.432944  \n",
       "755    0.432944  \n",
       "756    0.432944  "
      ]
     },
     "execution_count": 15,
     "metadata": {},
     "output_type": "execute_result"
    }
   ],
   "source": [
    "fp = df[(df[\"similarity\"] < 0.80) & (df[\"when_ans_freq\"] != \"missing\")].loc[:, [\"Activity Instance Id (for AU)\", \"Frequency of the activity\", \"when_ans_freq\", \"similarity\"]]\n",
    "print(fp.shape)\n",
    "fp"
   ]
  },
  {
   "cell_type": "code",
   "execution_count": 25,
   "id": "7d61c2b7",
   "metadata": {},
   "outputs": [
    {
     "data": {
      "text/plain": [
       "'Communication Change Management. On a monthly (ad-hoc) basis, the Pricing Change Management Team governs the process of a customer communication change that is requested by the Communication Change Owner (CCO) via the Communication Change Memo (Memo) on behalf of U.S. Branded Cards for all customer touch points. This Activity is executed to inform potentially impacted Channel Partners to ensure accurate and timely communication of product, benefit/feature, regulatory, compliance and/or legal changes. Dependencies: Applications/Systems: CSI # 153591 - SharePoint Global Services a.k.a. WFM Communication Change Management (CCM) tool.'"
      ]
     },
     "execution_count": 25,
     "metadata": {},
     "output_type": "execute_result"
    }
   ],
   "source": [
    "df.loc[752, \"Activity AU Description\"]"
   ]
  },
  {
   "cell_type": "markdown",
   "id": "1543ab56",
   "metadata": {},
   "source": [
    "### `False Negative: 5 records`"
   ]
  },
  {
   "cell_type": "code",
   "execution_count": 17,
   "id": "6d1d18c9",
   "metadata": {},
   "outputs": [
    {
     "name": "stdout",
     "output_type": "stream",
     "text": [
      "(5, 4)\n"
     ]
    },
    {
     "data": {
      "text/html": [
       "<div>\n",
       "<style scoped>\n",
       "    .dataframe tbody tr th:only-of-type {\n",
       "        vertical-align: middle;\n",
       "    }\n",
       "\n",
       "    .dataframe tbody tr th {\n",
       "        vertical-align: top;\n",
       "    }\n",
       "\n",
       "    .dataframe thead th {\n",
       "        text-align: right;\n",
       "    }\n",
       "</style>\n",
       "<table border=\"1\" class=\"dataframe\">\n",
       "  <thead>\n",
       "    <tr style=\"text-align: right;\">\n",
       "      <th></th>\n",
       "      <th>Activity Instance Id (for AU)</th>\n",
       "      <th>Frequency of the activity</th>\n",
       "      <th>when_ans_freq</th>\n",
       "      <th>similarity</th>\n",
       "    </tr>\n",
       "  </thead>\n",
       "  <tbody>\n",
       "    <tr>\n",
       "      <th>171</th>\n",
       "      <td>912722.0</td>\n",
       "      <td>twice per quarter cadence</td>\n",
       "      <td>missing</td>\n",
       "      <td>0.245766</td>\n",
       "    </tr>\n",
       "    <tr>\n",
       "      <th>214</th>\n",
       "      <td>942006.0</td>\n",
       "      <td>ongoing basis</td>\n",
       "      <td>missing</td>\n",
       "      <td>0.414187</td>\n",
       "    </tr>\n",
       "    <tr>\n",
       "      <th>215</th>\n",
       "      <td>942006.0</td>\n",
       "      <td>ongoing basis</td>\n",
       "      <td>missing</td>\n",
       "      <td>0.414187</td>\n",
       "    </tr>\n",
       "    <tr>\n",
       "      <th>216</th>\n",
       "      <td>942006.0</td>\n",
       "      <td>ongoing basis</td>\n",
       "      <td>missing</td>\n",
       "      <td>0.414187</td>\n",
       "    </tr>\n",
       "    <tr>\n",
       "      <th>318</th>\n",
       "      <td>886500.0</td>\n",
       "      <td>ongoing</td>\n",
       "      <td>missing</td>\n",
       "      <td>0.469507</td>\n",
       "    </tr>\n",
       "  </tbody>\n",
       "</table>\n",
       "</div>"
      ],
      "text/plain": [
       "     Activity Instance Id (for AU)  Frequency of the activity when_ans_freq  \\\n",
       "171                       912722.0  twice per quarter cadence       missing   \n",
       "214                       942006.0              ongoing basis       missing   \n",
       "215                       942006.0              ongoing basis       missing   \n",
       "216                       942006.0              ongoing basis       missing   \n",
       "318                       886500.0                    ongoing       missing   \n",
       "\n",
       "     similarity  \n",
       "171    0.245766  \n",
       "214    0.414187  \n",
       "215    0.414187  \n",
       "216    0.414187  \n",
       "318    0.469507  "
      ]
     },
     "execution_count": 17,
     "metadata": {},
     "output_type": "execute_result"
    }
   ],
   "source": [
    "fn = df[(df[\"Frequency of the activity\"] != \"missing\") & \n",
    "         (df[\"when_ans_freq\"] == \"missing\") ]\n",
    "fn = fn[[\"Activity Instance Id (for AU)\", \"Frequency of the activity\", \"when_ans_freq\", \"similarity\"]]\n",
    "print(fn.shape)\n",
    "fn"
   ]
  },
  {
   "cell_type": "markdown",
   "id": "8e2596c2",
   "metadata": {},
   "source": [
    "### `Accuracy`"
   ]
  },
  {
   "cell_type": "code",
   "execution_count": 18,
   "id": "368f0f1c",
   "metadata": {},
   "outputs": [
    {
     "data": {
      "text/plain": [
       "0.988"
      ]
     },
     "execution_count": 18,
     "metadata": {},
     "output_type": "execute_result"
    }
   ],
   "source": [
    "accuracy = (len(tp) + len(tn)) / (len(tp) + len(fp) + len(fn) + len(tn))\n",
    "accuracy"
   ]
  },
  {
   "cell_type": "markdown",
   "id": "474adfe9",
   "metadata": {},
   "source": [
    "### `Precision`"
   ]
  },
  {
   "cell_type": "code",
   "execution_count": 19,
   "id": "95e98eb0",
   "metadata": {},
   "outputs": [
    {
     "data": {
      "text/plain": [
       "0.9921171171171171"
      ]
     },
     "execution_count": 19,
     "metadata": {},
     "output_type": "execute_result"
    }
   ],
   "source": [
    "precision = len(tp) /  (len(tp) + len(fp))\n",
    "precision"
   ]
  },
  {
   "cell_type": "markdown",
   "id": "0c4fd1ae",
   "metadata": {},
   "source": [
    "### `Recall`"
   ]
  },
  {
   "cell_type": "code",
   "execution_count": 20,
   "id": "2926542e",
   "metadata": {},
   "outputs": [
    {
     "data": {
      "text/plain": [
       "0.9943566591422122"
      ]
     },
     "execution_count": 20,
     "metadata": {},
     "output_type": "execute_result"
    }
   ],
   "source": [
    "recall = len(tp) /  (len(tp) + len(fn))\n",
    "recall"
   ]
  },
  {
   "cell_type": "markdown",
   "id": "cf196bf1",
   "metadata": {},
   "source": [
    "### `F1-Score`"
   ]
  },
  {
   "cell_type": "code",
   "execution_count": 21,
   "id": "0004d6b6",
   "metadata": {},
   "outputs": [
    {
     "data": {
      "text/plain": [
       "0.9932356257046222"
      ]
     },
     "execution_count": 21,
     "metadata": {},
     "output_type": "execute_result"
    }
   ],
   "source": [
    "f1_score = 2 * precision * recall / (precision + recall)\n",
    "f1_score"
   ]
  },
  {
   "cell_type": "markdown",
   "id": "32c70c42",
   "metadata": {},
   "source": [
    "### `Confusion Matrix`"
   ]
  },
  {
   "cell_type": "code",
   "execution_count": 22,
   "id": "06be8fd7",
   "metadata": {},
   "outputs": [
    {
     "data": {
      "text/html": [
       "<div>\n",
       "<style scoped>\n",
       "    .dataframe tbody tr th:only-of-type {\n",
       "        vertical-align: middle;\n",
       "    }\n",
       "\n",
       "    .dataframe tbody tr th {\n",
       "        vertical-align: top;\n",
       "    }\n",
       "\n",
       "    .dataframe thead th {\n",
       "        text-align: right;\n",
       "    }\n",
       "</style>\n",
       "<table border=\"1\" class=\"dataframe\">\n",
       "  <thead>\n",
       "    <tr style=\"text-align: right;\">\n",
       "      <th></th>\n",
       "      <th>Postive</th>\n",
       "      <th>Negative</th>\n",
       "    </tr>\n",
       "  </thead>\n",
       "  <tbody>\n",
       "    <tr>\n",
       "      <th>Postive</th>\n",
       "      <td>881</td>\n",
       "      <td>7</td>\n",
       "    </tr>\n",
       "    <tr>\n",
       "      <th>Negative</th>\n",
       "      <td>5</td>\n",
       "      <td>107</td>\n",
       "    </tr>\n",
       "  </tbody>\n",
       "</table>\n",
       "</div>"
      ],
      "text/plain": [
       "          Postive  Negative\n",
       "Postive       881         7\n",
       "Negative        5       107"
      ]
     },
     "execution_count": 22,
     "metadata": {},
     "output_type": "execute_result"
    }
   ],
   "source": [
    "cm = pd.DataFrame(columns=[\"Postive\", \"Negative\"], index=[\"Postive\", \"Negative\"])\n",
    "cm[\"Postive\"], cm[\"Negative\"] = [len(tp), len(fn)], [len(fp), len(tn)]\n",
    "cm"
   ]
  },
  {
   "cell_type": "code",
   "execution_count": 23,
   "id": "4bfc3bef",
   "metadata": {},
   "outputs": [
    {
     "data": {
      "text/plain": [
       "1000"
      ]
     },
     "execution_count": 23,
     "metadata": {},
     "output_type": "execute_result"
    }
   ],
   "source": [
    "cm.sum().sum()"
   ]
  },
  {
   "cell_type": "code",
   "execution_count": 24,
   "id": "22c2043d",
   "metadata": {},
   "outputs": [
    {
     "data": {
      "text/plain": [
       "1000"
      ]
     },
     "execution_count": 24,
     "metadata": {},
     "output_type": "execute_result"
    }
   ],
   "source": [
    "len(df)"
   ]
  },
  {
   "cell_type": "code",
   "execution_count": null,
   "id": "381b9886",
   "metadata": {},
   "outputs": [],
   "source": []
  },
  {
   "cell_type": "code",
   "execution_count": null,
   "id": "0129dd0a",
   "metadata": {},
   "outputs": [],
   "source": []
  },
  {
   "cell_type": "code",
   "execution_count": null,
   "id": "aea02ba4",
   "metadata": {},
   "outputs": [],
   "source": []
  }
 ],
 "metadata": {
  "kernelspec": {
   "display_name": "Python 3",
   "language": "python",
   "name": "python3"
  },
  "language_info": {
   "codemirror_mode": {
    "name": "ipython",
    "version": 3
   },
   "file_extension": ".py",
   "mimetype": "text/x-python",
   "name": "python",
   "nbconvert_exporter": "python",
   "pygments_lexer": "ipython3",
   "version": "3.6.13"
  }
 },
 "nbformat": 4,
 "nbformat_minor": 5
}
