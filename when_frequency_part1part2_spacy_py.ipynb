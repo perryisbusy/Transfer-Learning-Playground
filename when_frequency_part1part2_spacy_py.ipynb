{
 "cells": [
  {
   "cell_type": "markdown",
   "id": "40641dc0",
   "metadata": {},
   "source": [
    "# `WHEN Frequency for Activity AU Description`\n",
    "\n",
    "### `Created/Modified By: Z Liu`\n",
    " \n",
    "* `1, Rewrite architecture of the code`\n",
    "* `2, Fix a warning \"a value is trying to be set on a copy\"; using df.at[] or df.loc[] instead of df[][]`\n",
    "* `3, Modify code so as to capture adhoc & ad hoc` \n",
    "* `4, Add similarity attribute to compare predictions and ground truth`\n",
    "* `5, Modify code so as to capture WHEN containing conjunction such as annual and quarterly `\n",
    "* `6, Remove stop words on predictions and ground truth before comparing similarity`\n",
    "* `7, Modify code so as to capture WHEN containing ... as ... basis (monthly as needed basis)`\n",
    "* `8, Be able to capture bi-..., bi ..., bi... etc`\n",
    "* `9, Solve error, \"float is not subscriptable\", desc = str(desc)`\n",
    "* `10, Add confidence, starting index, ending index`"
   ]
  },
  {
   "cell_type": "code",
   "execution_count": 1,
   "id": "a70206ca",
   "metadata": {},
   "outputs": [
    {
     "name": "stderr",
     "output_type": "stream",
     "text": [
      "/home/mcafixmlpython/.local/lib/python3.6/site-packages/spacy/util.py:833: UserWarning: [W095] Model 'en_core_web_md' (3.0.0) was trained with spaCy v3.0 and may not be 100% compatible with the current version (3.2.1). If you see errors or degraded performance, download a newer compatible model or retrain your custom model with the current spaCy version. For more details and available updates, run: python -m spacy validate\n",
      "  warnings.warn(warn_msg)\n",
      "Some weights of the model checkpoint at /home/mcafixmlpython/lib/bert-base-nli-mean-tokens/ were not used when initializing BertModel: ['classifier.bias', 'classifier.weight']\n",
      "- This IS expected if you are initializing BertModel from the checkpoint of a model trained on another task or with another architecture (e.g. initializing a BertForSequenceClassification model from a BertForPreTraining model).\n",
      "- This IS NOT expected if you are initializing BertModel from the checkpoint of a model that you expect to be exactly identical (initializing a BertForSequenceClassification model from a BertForSequenceClassification model).\n"
     ]
    },
    {
     "name": "stdout",
     "output_type": "stream",
     "text": [
      "CPU times: user 10.2 s, sys: 2.12 s, total: 12.3 s\n",
      "Wall time: 10.4 s\n"
     ]
    }
   ],
   "source": [
    "%%time\n",
    "\n",
    "import os\n",
    "import re\n",
    "import torch\n",
    "import numpy as np\n",
    "import pandas as pd\n",
    "from tqdm import tqdm\n",
    "import matplotlib.pyplot as plt\n",
    "from sklearn.feature_extraction.text import TfidfVectorizer\n",
    "import torch.nn.functional as F\n",
    "\n",
    "#Deep Learning Libraries\n",
    "import spacy\n",
    "from transformers import BertForQuestionAnswering\n",
    "from transformers import BertTokenizer\n",
    "\n",
    "from sentence_transformers import SentenceTransformer\n",
    "from transformers import AutoTokenizer, AutoModel, AutoModelForQuestionAnswering,pipeline\n",
    "\n",
    "import nltk\n",
    "# nltk.data.path.append('/home/mca_fix/share/nltk_data/') \n",
    "nltk.data.path.append('/home/mcafixmlpython/lib/nltk_data/') \n",
    "from nltk.stem import WordNetLemmatizer\n",
    "wordnet_lemmatizer = WordNetLemmatizer()\n",
    "\n",
    "\n",
    "# nlp = spacy.load(\"/home/mca_fix/share/en_core_web_md-3.0.0/en_core_web_md/en_core_web_md-3.0.0\")\n",
    "nlp = spacy.load(\"/home/mcafixmlpython/lib/en_core_web_md-3.0.0/en_core_web_md/en_core_web_md-3.0.0\")\n",
    "\n",
    "# Loading BERT-BASE-NLI-MEAN-TOKENS for similarity\n",
    "\n",
    "# simi_PATH = '/home/mca_fix/share/bert-base-nli-mean-tokens/'\n",
    "simi_PATH = '/home/mcafixmlpython/lib/bert-base-nli-mean-tokens/'\n",
    "\n",
    "simi_tokenizer=AutoTokenizer.from_pretrained(simi_PATH)\n",
    "simi_model=AutoModel.from_pretrained(simi_PATH,local_files_only=True)\n",
    "\n",
    "import warnings\n",
    "warnings.filterwarnings('ignore')"
   ]
  },
  {
   "cell_type": "code",
   "execution_count": 2,
   "id": "abd35edd",
   "metadata": {},
   "outputs": [
    {
     "name": "stdout",
     "output_type": "stream",
     "text": [
      "CPU times: user 4 µs, sys: 1e+03 ns, total: 5 µs\n",
      "Wall time: 8.34 µs\n"
     ]
    }
   ],
   "source": [
    "%%time\n",
    "\n",
    "def similar(sent):\n",
    "    tokens={'input_ids':[],'attention_mask':[]}\n",
    "    for sentence in sent:\n",
    "        new_tokens=simi_tokenizer.encode_plus(sentence,max_length=128,truncation=True,padding='max_length',return_tensors='pt')\n",
    "        tokens['input_ids'].append(new_tokens['input_ids'][0])\n",
    "        tokens['attention_mask'].append(new_tokens['attention_mask'][0])\n",
    "    #reformat list of tensors into single tensor\n",
    "    tokens['input_ids']=torch.stack(tokens['input_ids'])\n",
    "    tokens['attention_mask']=torch.stack(tokens['attention_mask'])\n",
    "    #processing tokens\n",
    "    outputs=simi_model(**tokens)\n",
    "    outputs.keys()\n",
    "    embeddings=outputs.last_hidden_state\n",
    "    attention_mask=tokens['attention_mask']\n",
    "    mask=attention_mask.unsqueeze(-1).expand(embeddings.size()).float()\n",
    "    masked_embeddings=embeddings * mask\n",
    "    summed = torch.sum(masked_embeddings,1)\n",
    "    summed_mask=torch.clamp(mask.sum(1),min=1e-9)\n",
    "    mean_pooled=summed/summed_mask\n",
    "    from sklearn.metrics.pairwise import cosine_similarity\n",
    "    mean_pooled=mean_pooled.detach().numpy()\n",
    "    x=cosine_similarity([mean_pooled[0]],mean_pooled[1:])\n",
    "    return x[0][0]"
   ]
  },
  {
   "cell_type": "code",
   "execution_count": 3,
   "id": "f9f868ee",
   "metadata": {},
   "outputs": [],
   "source": [
    "from nltk.corpus import stopwords\n",
    "\n",
    "def remove_stopwords(input_text):\n",
    "    #print(\"in remove_stopwords\\n\",input_text)\n",
    "       \n",
    "    stopwords_list = stopwords.words('english')\n",
    "    newStopWords = ['citi']\n",
    "    stopwords_list.extend(newStopWords)\n",
    "        \n",
    "    # Some words which might indicate a certain sentiment are kept via a whitelist\n",
    "    #whitelist = [\"n't\", \"not\", \"no\"]\n",
    "      \n",
    "    whitelist = [\"n't\"]\n",
    "    words = input_text.split() \n",
    "    clean_words = [word for word in words if (word not in stopwords_list or word in whitelist) and len(word) > 2]          \n",
    "    return \" \".join(clean_words)"
   ]
  },
  {
   "cell_type": "markdown",
   "id": "a54ac66e",
   "metadata": {},
   "source": [
    "### `Activity ground truth.xlsx part 1`"
   ]
  },
  {
   "cell_type": "code",
   "execution_count": 4,
   "id": "cc6ae38c",
   "metadata": {},
   "outputs": [
    {
     "name": "stdout",
     "output_type": "stream",
     "text": [
      "(101, 3)\n",
      "CPU times: user 6.79 s, sys: 44.2 ms, total: 6.84 s\n",
      "Wall time: 6.99 s\n"
     ]
    },
    {
     "data": {
      "text/html": [
       "<div>\n",
       "<style scoped>\n",
       "    .dataframe tbody tr th:only-of-type {\n",
       "        vertical-align: middle;\n",
       "    }\n",
       "\n",
       "    .dataframe tbody tr th {\n",
       "        vertical-align: top;\n",
       "    }\n",
       "\n",
       "    .dataframe thead th {\n",
       "        text-align: right;\n",
       "    }\n",
       "</style>\n",
       "<table border=\"1\" class=\"dataframe\">\n",
       "  <thead>\n",
       "    <tr style=\"text-align: right;\">\n",
       "      <th></th>\n",
       "      <th>Activity Instance Id</th>\n",
       "      <th>Activity AU Description</th>\n",
       "      <th>Frequency of the activity</th>\n",
       "    </tr>\n",
       "  </thead>\n",
       "  <tbody>\n",
       "    <tr>\n",
       "      <th>0</th>\n",
       "      <td>490399.0</td>\n",
       "      <td>Deploy/Implement technology solution Manage fu...</td>\n",
       "      <td>Missing</td>\n",
       "    </tr>\n",
       "    <tr>\n",
       "      <th>1</th>\n",
       "      <td>509099.0</td>\n",
       "      <td>Follow appropriate Client Authentication proce...</td>\n",
       "      <td>Missing</td>\n",
       "    </tr>\n",
       "    <tr>\n",
       "      <th>2</th>\n",
       "      <td>553070.0</td>\n",
       "      <td>Conduct / Review Monitoring Activities Risk As...</td>\n",
       "      <td>Missing</td>\n",
       "    </tr>\n",
       "    <tr>\n",
       "      <th>3</th>\n",
       "      <td>576552.0</td>\n",
       "      <td>Citishare maintains a process to ensure that t...</td>\n",
       "      <td>Missing</td>\n",
       "    </tr>\n",
       "    <tr>\n",
       "      <th>4</th>\n",
       "      <td>576628.0</td>\n",
       "      <td>Citishare manages technical, ownership, and re...</td>\n",
       "      <td>Missing</td>\n",
       "    </tr>\n",
       "  </tbody>\n",
       "</table>\n",
       "</div>"
      ],
      "text/plain": [
       "   Activity Instance Id                            Activity AU Description  \\\n",
       "0              490399.0  Deploy/Implement technology solution Manage fu...   \n",
       "1              509099.0  Follow appropriate Client Authentication proce...   \n",
       "2              553070.0  Conduct / Review Monitoring Activities Risk As...   \n",
       "3              576552.0  Citishare maintains a process to ensure that t...   \n",
       "4              576628.0  Citishare manages technical, ownership, and re...   \n",
       "\n",
       "  Frequency of the activity  \n",
       "0                   Missing  \n",
       "1                   Missing  \n",
       "2                   Missing  \n",
       "3                   Missing  \n",
       "4                   Missing  "
      ]
     },
     "execution_count": 4,
     "metadata": {},
     "output_type": "execute_result"
    }
   ],
   "source": [
    "%%time \n",
    "\n",
    "df1 = pd.read_excel('Activity ground truth.xlsx', engine='openpyxl')\n",
    "\n",
    "# df1 = df1[df1[\"Activity Description contains > 20 words\"] == \"Pass\"]\n",
    "df1 = df1[[\"Activity Instance Id\", \"Activity AU Description\", \"Frequency of the activity\"]]\n",
    "df1.reset_index(drop=True, inplace=True)\n",
    "\n",
    "df1.dropna(axis=0, inplace=True)\n",
    "\n",
    "# # coerce type conversion to every element of a DataFrame\n",
    "# df1 = df1.applymap(str)\n",
    "\n",
    "# text preprocessing\n",
    "# df1['Activity AU Description'] = df1['Activity AU Description'].str.strip().str.lower()\n",
    "# df1['Activity AU Description'] = df1['Activity AU Description'].str.replace('[^\\w\\s]','') # semi-annual -> semiannual\n",
    "\n",
    "print(df1.shape)\n",
    "df1.head()"
   ]
  },
  {
   "cell_type": "markdown",
   "id": "984e59ef",
   "metadata": {},
   "source": [
    "### `Activity ground truth.xlsx part 2`"
   ]
  },
  {
   "cell_type": "code",
   "execution_count": 5,
   "id": "40928e04",
   "metadata": {},
   "outputs": [
    {
     "name": "stdout",
     "output_type": "stream",
     "text": [
      "(150, 3)\n",
      "CPU times: user 5.16 s, sys: 3.91 ms, total: 5.16 s\n",
      "Wall time: 5.4 s\n"
     ]
    },
    {
     "data": {
      "text/html": [
       "<div>\n",
       "<style scoped>\n",
       "    .dataframe tbody tr th:only-of-type {\n",
       "        vertical-align: middle;\n",
       "    }\n",
       "\n",
       "    .dataframe tbody tr th {\n",
       "        vertical-align: top;\n",
       "    }\n",
       "\n",
       "    .dataframe thead th {\n",
       "        text-align: right;\n",
       "    }\n",
       "</style>\n",
       "<table border=\"1\" class=\"dataframe\">\n",
       "  <thead>\n",
       "    <tr style=\"text-align: right;\">\n",
       "      <th></th>\n",
       "      <th>Activity Instance Id</th>\n",
       "      <th>Activity AU Description</th>\n",
       "      <th>Frequency of the activity</th>\n",
       "    </tr>\n",
       "  </thead>\n",
       "  <tbody>\n",
       "    <tr>\n",
       "      <th>0</th>\n",
       "      <td>1006483.0</td>\n",
       "      <td>On a monthly basis, the Sales Practices Invest...</td>\n",
       "      <td>monthly basis</td>\n",
       "    </tr>\n",
       "    <tr>\n",
       "      <th>1</th>\n",
       "      <td>1008421.0</td>\n",
       "      <td>Global Network Risk Management Alternative Con...</td>\n",
       "      <td>quarterly basis</td>\n",
       "    </tr>\n",
       "    <tr>\n",
       "      <th>2</th>\n",
       "      <td>1008549.0</td>\n",
       "      <td>AML Governance : Population Identification and...</td>\n",
       "      <td>Quarterly</td>\n",
       "    </tr>\n",
       "    <tr>\n",
       "      <th>3</th>\n",
       "      <td>1010460.0</td>\n",
       "      <td>All Citi businesses assess their Information S...</td>\n",
       "      <td>Missing</td>\n",
       "    </tr>\n",
       "    <tr>\n",
       "      <th>4</th>\n",
       "      <td>1010779.0</td>\n",
       "      <td>In order to facilitate member settlement, on a...</td>\n",
       "      <td>daily basis</td>\n",
       "    </tr>\n",
       "  </tbody>\n",
       "</table>\n",
       "</div>"
      ],
      "text/plain": [
       "   Activity Instance Id                            Activity AU Description  \\\n",
       "0             1006483.0  On a monthly basis, the Sales Practices Invest...   \n",
       "1             1008421.0  Global Network Risk Management Alternative Con...   \n",
       "2             1008549.0  AML Governance : Population Identification and...   \n",
       "3             1010460.0  All Citi businesses assess their Information S...   \n",
       "4             1010779.0  In order to facilitate member settlement, on a...   \n",
       "\n",
       "  Frequency of the activity  \n",
       "0             monthly basis  \n",
       "1           quarterly basis  \n",
       "2                 Quarterly  \n",
       "3                   Missing  \n",
       "4               daily basis  "
      ]
     },
     "execution_count": 5,
     "metadata": {},
     "output_type": "execute_result"
    }
   ],
   "source": [
    "%%time \n",
    "\n",
    "df2 = pd.read_excel('Activity Ground Truth Part 2.xlsx', engine='openpyxl')\n",
    "\n",
    "# df2 = df2[df2[\"Activity Description contains > 20 words\"] == \"Pass\"]\n",
    "df2 = df2[[\"Activity Instance Id\", \"Activity AU Description\", \"Frequency of the activity\"]]\n",
    "df2.reset_index(drop=True, inplace=True)\n",
    "\n",
    "df2.dropna(axis=0, inplace=True)\n",
    "\n",
    "# # coerce type conversion to every element of a DataFrame\n",
    "# df2 = df2.applymap(str)\n",
    "\n",
    "# text preprocessing\n",
    "# df2['Activity AU Description'] = df2['Activity AU Description'].str.strip().str.lower()\n",
    "# df2['Activity AU Description'] = df2['Activity AU Description'].str.replace('[^\\w\\s]','') # semi-annual -> semiannual\n",
    "\n",
    "print(df2.shape)\n",
    "df2.head()"
   ]
  },
  {
   "cell_type": "code",
   "execution_count": 6,
   "id": "82fbd7e8",
   "metadata": {},
   "outputs": [
    {
     "data": {
      "text/plain": [
       "Index(['Activity Instance Id', 'Activity AU Description',\n",
       "       'Frequency of the activity'],\n",
       "      dtype='object')"
      ]
     },
     "execution_count": 6,
     "metadata": {},
     "output_type": "execute_result"
    }
   ],
   "source": [
    "df1.columns"
   ]
  },
  {
   "cell_type": "code",
   "execution_count": 7,
   "id": "2ac0d99d",
   "metadata": {},
   "outputs": [
    {
     "data": {
      "text/plain": [
       "Index(['Activity Instance Id', 'Activity AU Description',\n",
       "       'Frequency of the activity'],\n",
       "      dtype='object')"
      ]
     },
     "execution_count": 7,
     "metadata": {},
     "output_type": "execute_result"
    }
   ],
   "source": [
    "df2.columns"
   ]
  },
  {
   "cell_type": "markdown",
   "id": "3cac0998",
   "metadata": {},
   "source": [
    "### `Combine df1 and df2 into one df`"
   ]
  },
  {
   "cell_type": "code",
   "execution_count": 8,
   "id": "c8356141",
   "metadata": {},
   "outputs": [
    {
     "name": "stdout",
     "output_type": "stream",
     "text": [
      "(251, 3)\n"
     ]
    },
    {
     "data": {
      "text/html": [
       "<div>\n",
       "<style scoped>\n",
       "    .dataframe tbody tr th:only-of-type {\n",
       "        vertical-align: middle;\n",
       "    }\n",
       "\n",
       "    .dataframe tbody tr th {\n",
       "        vertical-align: top;\n",
       "    }\n",
       "\n",
       "    .dataframe thead th {\n",
       "        text-align: right;\n",
       "    }\n",
       "</style>\n",
       "<table border=\"1\" class=\"dataframe\">\n",
       "  <thead>\n",
       "    <tr style=\"text-align: right;\">\n",
       "      <th></th>\n",
       "      <th>Activity Instance Id</th>\n",
       "      <th>Activity AU Description</th>\n",
       "      <th>Frequency of the activity</th>\n",
       "    </tr>\n",
       "  </thead>\n",
       "  <tbody>\n",
       "    <tr>\n",
       "      <th>0</th>\n",
       "      <td>490399.0</td>\n",
       "      <td>Deploy/Implement technology solution Manage fu...</td>\n",
       "      <td>Missing</td>\n",
       "    </tr>\n",
       "    <tr>\n",
       "      <th>1</th>\n",
       "      <td>509099.0</td>\n",
       "      <td>Follow appropriate Client Authentication proce...</td>\n",
       "      <td>Missing</td>\n",
       "    </tr>\n",
       "    <tr>\n",
       "      <th>2</th>\n",
       "      <td>553070.0</td>\n",
       "      <td>Conduct / Review Monitoring Activities Risk As...</td>\n",
       "      <td>Missing</td>\n",
       "    </tr>\n",
       "    <tr>\n",
       "      <th>3</th>\n",
       "      <td>576552.0</td>\n",
       "      <td>Citishare maintains a process to ensure that t...</td>\n",
       "      <td>Missing</td>\n",
       "    </tr>\n",
       "    <tr>\n",
       "      <th>4</th>\n",
       "      <td>576628.0</td>\n",
       "      <td>Citishare manages technical, ownership, and re...</td>\n",
       "      <td>Missing</td>\n",
       "    </tr>\n",
       "  </tbody>\n",
       "</table>\n",
       "</div>"
      ],
      "text/plain": [
       "   Activity Instance Id                            Activity AU Description  \\\n",
       "0              490399.0  Deploy/Implement technology solution Manage fu...   \n",
       "1              509099.0  Follow appropriate Client Authentication proce...   \n",
       "2              553070.0  Conduct / Review Monitoring Activities Risk As...   \n",
       "3              576552.0  Citishare maintains a process to ensure that t...   \n",
       "4              576628.0  Citishare manages technical, ownership, and re...   \n",
       "\n",
       "  Frequency of the activity  \n",
       "0                   Missing  \n",
       "1                   Missing  \n",
       "2                   Missing  \n",
       "3                   Missing  \n",
       "4                   Missing  "
      ]
     },
     "execution_count": 8,
     "metadata": {},
     "output_type": "execute_result"
    }
   ],
   "source": [
    "df = pd.concat(objs=[df1, df2], axis=0, ignore_index=True)\n",
    "print(df.shape)\n",
    "df.head()"
   ]
  },
  {
   "cell_type": "code",
   "execution_count": 9,
   "id": "3807c9f5",
   "metadata": {},
   "outputs": [],
   "source": [
    "when_frequency_lst = [\"daily\", \"weekly\", \n",
    "#                       \"biweekly\", \"realtime\", \"event driven\", # *** from control#\n",
    "                      \"monthly\", \"quarterly\", \"yearly\", \"semiannual\", \"semiannually\",\n",
    "                      \"annual\", # *** from activity# \"ongoing\", \"needed\", \n",
    "                      \"annually\", \n",
    "                      # outliers # \n",
    "                      \"each month\", \"every month\", \"calendar month\",  \n",
    "                      # \"needed basis\", \"required basis\",\n",
    "                      \"ad hoc\", \"adhoc\"]\n",
    "\n",
    "from typing import Tuple\n",
    "\n",
    "def activity_when(desc: str) -> Tuple[str, str, int, int]:\n",
    "    \"\"\"\n",
    "    \n",
    "    \n",
    "    \"\"\"\n",
    "    \n",
    "    # Text preprocessing\n",
    "    desc = str(desc)\n",
    "#     desc = re.sub('[^\\w\\s]', '', desc.strip().lower())\n",
    "    desc = desc.lower()\n",
    "    doc = nlp(desc)\n",
    "    \n",
    "    activity_when_answer = None\n",
    "    \n",
    "    \n",
    "    ########################### semi/bi, semi-annually, bi-weekly... ###########################\n",
    "    semi_bi = [\"semi\", \"bi\"]\n",
    "    for word in when_frequency_lst:\n",
    "        \n",
    "        for semi_bi_word in semi_bi:\n",
    "            \n",
    "            if f\"\"\"{semi_bi_word}-{word}\"\"\" in desc:\n",
    "        \n",
    "                activity_when_answer = f\"\"\"{semi_bi_word}-{word}\"\"\"\n",
    "        \n",
    "    \n",
    "    \n",
    "    ########################### annual and quarterly basis; adhoc or weekly basis... ########################### \n",
    "    for token in doc:\n",
    "        \n",
    "        # Exclude last three tokens \n",
    "        try:\n",
    "        \n",
    "            if (token.text in when_frequency_lst) and (doc[token.i+1].pos_ == \"CCONJ\") and (doc[token.i+2].text in when_frequency_lst) and (doc[token.i+3].text in [\"basis\", \"cadence\"]):\n",
    "                \n",
    "                span = \" \".join([doc[token.i].text, doc[token.i+1].text, doc[token.i+2].text, doc[token.i+3].text])\n",
    "\n",
    "                if any(word in when_frequency_lst for word in span.split()) and (activity_when_answer is None):\n",
    "  \n",
    "                    activity_when_answer = span\n",
    "        \n",
    "        except:\n",
    "            \n",
    "            pass\n",
    "    \n",
    "    \n",
    "    \n",
    "    ########################### on ... basis... ########################### \n",
    "    for token in doc:\n",
    "        \n",
    "        # Exclude the last token \n",
    "        try:\n",
    "            \n",
    "            if (token.text in when_frequency_lst) and (doc[token.i+1].text in [\"basis\", \"cadence\"]):\n",
    "                \n",
    "                # ... as ... basis (monthly as needed basis)\n",
    "                if doc[token.i-2].text in when_frequency_lst:\n",
    "                    \n",
    "                    span = \" \".join([doc[token.i-2].text, doc[token.i-1].text, token.text, doc[token.i+1].text])\n",
    "                \n",
    "                # on a/an ... basis ..\n",
    "                elif (doc[token.i-2].text == \"on\") and ((doc[token.i-1].text == \"a\") or (doc[token.i-1].text == \"an\")):\n",
    "                    \n",
    "                    span = \" \".join([doc[token.i-2].text, doc[token.i-1].text, token.text, doc[token.i+1].text])\n",
    "                \n",
    "                # on ... basis ...\n",
    "                elif doc[token.i-1].text == \"on\":\n",
    "                    \n",
    "                    span = \" \".join([doc[token.i-1].text, token.text, doc[token.i+1].text])\n",
    "                \n",
    "                else:\n",
    "                    \n",
    "                    span = \" \".join([token.text, doc[token.i+1].text])\n",
    "\n",
    "                if any(word in when_frequency_lst for word in span.split()) and (activity_when_answer is None):\n",
    "\n",
    "                        activity_when_answer = span\n",
    "        \n",
    "        except:\n",
    "            \n",
    "            pass\n",
    "            \n",
    "              \n",
    "    ########################### monthly, quarterly, annually, semi-annually... ###########################       \n",
    "    for token in doc:\n",
    "        \n",
    "        # Exclude the last token \n",
    "        try:\n",
    "        \n",
    "            if ((token.dep_ == \"amod\") and (token.pos_ == \"ADJ\")) or ((token.dep_ == \"advmod\") and (token.pos_ == \"ADV\")):\n",
    "                \n",
    "                span = token.text\n",
    "\n",
    "                if any(word in when_frequency_lst for word in span.split()) and (activity_when_answer is None):\n",
    "\n",
    "                    activity_when_answer = span\n",
    "        \n",
    "        except:\n",
    "            \n",
    "            pass\n",
    "                \n",
    "                \n",
    "                \n",
    "    ########################### other outliers... ###########################\n",
    "    if activity_when_answer is None:\n",
    "    \n",
    "        for word in when_frequency_lst:\n",
    "            \n",
    "            if word in desc:\n",
    "                \n",
    "                activity_when_answer = word\n",
    "    \n",
    "    \n",
    "    \n",
    "    ########################### confidence ###########################\n",
    "    if activity_when_answer is None:\n",
    "        \n",
    "        confidence = \"Low\"\n",
    "        \n",
    "    else:\n",
    "        \n",
    "        confidence = \"High\"\n",
    "        \n",
    "        \n",
    "        \n",
    "    ########################### starting index, ending index ###########################\n",
    "    if activity_when_answer is None:\n",
    "        \n",
    "        start, end = None, None\n",
    "    \n",
    "    else:\n",
    "        \n",
    "        start = desc.find(activity_when_answer)\n",
    "        \n",
    "        if start == -1:\n",
    "            \n",
    "            start, end = None, None\n",
    "        \n",
    "        else:\n",
    "            \n",
    "            end = start + len(activity_when_answer)\n",
    "        \n",
    "    \n",
    "    \n",
    "    return activity_when_answer, confidence, start, end"
   ]
  },
  {
   "cell_type": "code",
   "execution_count": 10,
   "id": "c2988877",
   "metadata": {},
   "outputs": [
    {
     "name": "stdout",
     "output_type": "stream",
     "text": [
      "CPU times: user 6.42 s, sys: 1.3 ms, total: 6.42 s\n",
      "Wall time: 6.64 s\n"
     ]
    }
   ],
   "source": [
    "%%time\n",
    "\n",
    "# df[\"when_ans_freq\"] = df[\"Activity AU Description\"].apply(func=activity_when)\n",
    "df[[\"when_ans_freq\", \"confidence\", \"start\", \"end\"]] = df[\"Activity AU Description\"].\\\n",
    "    apply(func=lambda row: activity_when(row)[0:4]).to_list()\n",
    "df[\"found\"] = (~df[\"when_ans_freq\"].isna())\n",
    "df['review_priority'] = np.where((df['found'] == False), \"High Priority Review because of Missing When Frequency\", \"No Need to Review\")      \n",
    "df['missing_or_not'] = np.where((df['found'] == False), \"Missing\", \"Not Missing\")"
   ]
  },
  {
   "cell_type": "code",
   "execution_count": 11,
   "id": "f9b921d9",
   "metadata": {},
   "outputs": [
    {
     "data": {
      "text/html": [
       "<div>\n",
       "<style scoped>\n",
       "    .dataframe tbody tr th:only-of-type {\n",
       "        vertical-align: middle;\n",
       "    }\n",
       "\n",
       "    .dataframe tbody tr th {\n",
       "        vertical-align: top;\n",
       "    }\n",
       "\n",
       "    .dataframe thead th {\n",
       "        text-align: right;\n",
       "    }\n",
       "</style>\n",
       "<table border=\"1\" class=\"dataframe\">\n",
       "  <thead>\n",
       "    <tr style=\"text-align: right;\">\n",
       "      <th></th>\n",
       "      <th>Frequency of the activity</th>\n",
       "      <th>when_ans_freq</th>\n",
       "    </tr>\n",
       "  </thead>\n",
       "  <tbody>\n",
       "    <tr>\n",
       "      <th>0</th>\n",
       "      <td>Missing</td>\n",
       "      <td>None</td>\n",
       "    </tr>\n",
       "    <tr>\n",
       "      <th>1</th>\n",
       "      <td>Missing</td>\n",
       "      <td>None</td>\n",
       "    </tr>\n",
       "    <tr>\n",
       "      <th>2</th>\n",
       "      <td>Missing</td>\n",
       "      <td>None</td>\n",
       "    </tr>\n",
       "    <tr>\n",
       "      <th>3</th>\n",
       "      <td>Missing</td>\n",
       "      <td>annual</td>\n",
       "    </tr>\n",
       "    <tr>\n",
       "      <th>4</th>\n",
       "      <td>Missing</td>\n",
       "      <td>None</td>\n",
       "    </tr>\n",
       "    <tr>\n",
       "      <th>...</th>\n",
       "      <td>...</td>\n",
       "      <td>...</td>\n",
       "    </tr>\n",
       "    <tr>\n",
       "      <th>246</th>\n",
       "      <td>missing</td>\n",
       "      <td>daily</td>\n",
       "    </tr>\n",
       "    <tr>\n",
       "      <th>247</th>\n",
       "      <td>Semi-annually</td>\n",
       "      <td>semi-annually</td>\n",
       "    </tr>\n",
       "    <tr>\n",
       "      <th>248</th>\n",
       "      <td>Monthly</td>\n",
       "      <td>monthly</td>\n",
       "    </tr>\n",
       "    <tr>\n",
       "      <th>249</th>\n",
       "      <td>Quarterly</td>\n",
       "      <td>quarterly</td>\n",
       "    </tr>\n",
       "    <tr>\n",
       "      <th>250</th>\n",
       "      <td>missing</td>\n",
       "      <td>None</td>\n",
       "    </tr>\n",
       "  </tbody>\n",
       "</table>\n",
       "<p>251 rows × 2 columns</p>\n",
       "</div>"
      ],
      "text/plain": [
       "    Frequency of the activity  when_ans_freq\n",
       "0                     Missing           None\n",
       "1                     Missing           None\n",
       "2                     Missing           None\n",
       "3                     Missing         annual\n",
       "4                     Missing           None\n",
       "..                        ...            ...\n",
       "246                   missing          daily\n",
       "247             Semi-annually  semi-annually\n",
       "248                   Monthly        monthly\n",
       "249                 Quarterly      quarterly\n",
       "250                   missing           None\n",
       "\n",
       "[251 rows x 2 columns]"
      ]
     },
     "execution_count": 11,
     "metadata": {},
     "output_type": "execute_result"
    }
   ],
   "source": [
    "df[[\"Frequency of the activity\", \"when_ans_freq\"]]"
   ]
  },
  {
   "cell_type": "code",
   "execution_count": 12,
   "id": "fb84ce77",
   "metadata": {},
   "outputs": [
    {
     "data": {
      "text/html": [
       "<div>\n",
       "<style scoped>\n",
       "    .dataframe tbody tr th:only-of-type {\n",
       "        vertical-align: middle;\n",
       "    }\n",
       "\n",
       "    .dataframe tbody tr th {\n",
       "        vertical-align: top;\n",
       "    }\n",
       "\n",
       "    .dataframe thead th {\n",
       "        text-align: right;\n",
       "    }\n",
       "</style>\n",
       "<table border=\"1\" class=\"dataframe\">\n",
       "  <thead>\n",
       "    <tr style=\"text-align: right;\">\n",
       "      <th></th>\n",
       "      <th>Activity Instance Id</th>\n",
       "      <th>Activity AU Description</th>\n",
       "      <th>Frequency of the activity</th>\n",
       "      <th>when_ans_freq</th>\n",
       "      <th>confidence</th>\n",
       "      <th>start</th>\n",
       "      <th>end</th>\n",
       "      <th>found</th>\n",
       "      <th>review_priority</th>\n",
       "      <th>missing_or_not</th>\n",
       "    </tr>\n",
       "  </thead>\n",
       "  <tbody>\n",
       "    <tr>\n",
       "      <th>0</th>\n",
       "      <td>490399.0</td>\n",
       "      <td>Deploy/Implement technology solution Manage fu...</td>\n",
       "      <td>Missing</td>\n",
       "      <td>None</td>\n",
       "      <td>Low</td>\n",
       "      <td>NaN</td>\n",
       "      <td>NaN</td>\n",
       "      <td>False</td>\n",
       "      <td>High Priority Review because of Missing When F...</td>\n",
       "      <td>Missing</td>\n",
       "    </tr>\n",
       "    <tr>\n",
       "      <th>1</th>\n",
       "      <td>509099.0</td>\n",
       "      <td>Follow appropriate Client Authentication proce...</td>\n",
       "      <td>Missing</td>\n",
       "      <td>None</td>\n",
       "      <td>Low</td>\n",
       "      <td>NaN</td>\n",
       "      <td>NaN</td>\n",
       "      <td>False</td>\n",
       "      <td>High Priority Review because of Missing When F...</td>\n",
       "      <td>Missing</td>\n",
       "    </tr>\n",
       "    <tr>\n",
       "      <th>2</th>\n",
       "      <td>553070.0</td>\n",
       "      <td>Conduct / Review Monitoring Activities Risk As...</td>\n",
       "      <td>Missing</td>\n",
       "      <td>None</td>\n",
       "      <td>Low</td>\n",
       "      <td>NaN</td>\n",
       "      <td>NaN</td>\n",
       "      <td>False</td>\n",
       "      <td>High Priority Review because of Missing When F...</td>\n",
       "      <td>Missing</td>\n",
       "    </tr>\n",
       "    <tr>\n",
       "      <th>4</th>\n",
       "      <td>576628.0</td>\n",
       "      <td>Citishare manages technical, ownership, and re...</td>\n",
       "      <td>Missing</td>\n",
       "      <td>None</td>\n",
       "      <td>Low</td>\n",
       "      <td>NaN</td>\n",
       "      <td>NaN</td>\n",
       "      <td>False</td>\n",
       "      <td>High Priority Review because of Missing When F...</td>\n",
       "      <td>Missing</td>\n",
       "    </tr>\n",
       "    <tr>\n",
       "      <th>5</th>\n",
       "      <td>584862.0</td>\n",
       "      <td>Manage and protect data integrity / confidenti...</td>\n",
       "      <td>Missing</td>\n",
       "      <td>None</td>\n",
       "      <td>Low</td>\n",
       "      <td>NaN</td>\n",
       "      <td>NaN</td>\n",
       "      <td>False</td>\n",
       "      <td>High Priority Review because of Missing When F...</td>\n",
       "      <td>Missing</td>\n",
       "    </tr>\n",
       "    <tr>\n",
       "      <th>...</th>\n",
       "      <td>...</td>\n",
       "      <td>...</td>\n",
       "      <td>...</td>\n",
       "      <td>...</td>\n",
       "      <td>...</td>\n",
       "      <td>...</td>\n",
       "      <td>...</td>\n",
       "      <td>...</td>\n",
       "      <td>...</td>\n",
       "      <td>...</td>\n",
       "    </tr>\n",
       "    <tr>\n",
       "      <th>166</th>\n",
       "      <td>797206.0</td>\n",
       "      <td>Credit Bureau Dispute Utility Brands,CFS, CMI,...</td>\n",
       "      <td>missing</td>\n",
       "      <td>None</td>\n",
       "      <td>Low</td>\n",
       "      <td>NaN</td>\n",
       "      <td>NaN</td>\n",
       "      <td>False</td>\n",
       "      <td>High Priority Review because of Missing When F...</td>\n",
       "      <td>Missing</td>\n",
       "    </tr>\n",
       "    <tr>\n",
       "      <th>168</th>\n",
       "      <td>797304.0</td>\n",
       "      <td>Function: Credit Operations Portfolio: CRS Can...</td>\n",
       "      <td>missing</td>\n",
       "      <td>None</td>\n",
       "      <td>Low</td>\n",
       "      <td>NaN</td>\n",
       "      <td>NaN</td>\n",
       "      <td>False</td>\n",
       "      <td>High Priority Review because of Missing When F...</td>\n",
       "      <td>Missing</td>\n",
       "    </tr>\n",
       "    <tr>\n",
       "      <th>171</th>\n",
       "      <td>841822.0</td>\n",
       "      <td>Manage the Global Consumer Bank Strategic Risk...</td>\n",
       "      <td>as needed basis</td>\n",
       "      <td>None</td>\n",
       "      <td>Low</td>\n",
       "      <td>NaN</td>\n",
       "      <td>NaN</td>\n",
       "      <td>False</td>\n",
       "      <td>High Priority Review because of Missing When F...</td>\n",
       "      <td>Missing</td>\n",
       "    </tr>\n",
       "    <tr>\n",
       "      <th>201</th>\n",
       "      <td>858205.0</td>\n",
       "      <td>Mandatory Absence Coordinators maintain the \"S...</td>\n",
       "      <td>Missing</td>\n",
       "      <td>None</td>\n",
       "      <td>Low</td>\n",
       "      <td>NaN</td>\n",
       "      <td>NaN</td>\n",
       "      <td>False</td>\n",
       "      <td>High Priority Review because of Missing When F...</td>\n",
       "      <td>Missing</td>\n",
       "    </tr>\n",
       "    <tr>\n",
       "      <th>250</th>\n",
       "      <td>989179.0</td>\n",
       "      <td>The Model Developer is an individual or group ...</td>\n",
       "      <td>missing</td>\n",
       "      <td>None</td>\n",
       "      <td>Low</td>\n",
       "      <td>NaN</td>\n",
       "      <td>NaN</td>\n",
       "      <td>False</td>\n",
       "      <td>High Priority Review because of Missing When F...</td>\n",
       "      <td>Missing</td>\n",
       "    </tr>\n",
       "  </tbody>\n",
       "</table>\n",
       "<p>64 rows × 10 columns</p>\n",
       "</div>"
      ],
      "text/plain": [
       "     Activity Instance Id                            Activity AU Description  \\\n",
       "0                490399.0  Deploy/Implement technology solution Manage fu...   \n",
       "1                509099.0  Follow appropriate Client Authentication proce...   \n",
       "2                553070.0  Conduct / Review Monitoring Activities Risk As...   \n",
       "4                576628.0  Citishare manages technical, ownership, and re...   \n",
       "5                584862.0  Manage and protect data integrity / confidenti...   \n",
       "..                    ...                                                ...   \n",
       "166              797206.0  Credit Bureau Dispute Utility Brands,CFS, CMI,...   \n",
       "168              797304.0  Function: Credit Operations Portfolio: CRS Can...   \n",
       "171              841822.0  Manage the Global Consumer Bank Strategic Risk...   \n",
       "201              858205.0  Mandatory Absence Coordinators maintain the \"S...   \n",
       "250              989179.0  The Model Developer is an individual or group ...   \n",
       "\n",
       "    Frequency of the activity when_ans_freq confidence  start  end  found  \\\n",
       "0                     Missing          None        Low    NaN  NaN  False   \n",
       "1                     Missing          None        Low    NaN  NaN  False   \n",
       "2                     Missing          None        Low    NaN  NaN  False   \n",
       "4                     Missing          None        Low    NaN  NaN  False   \n",
       "5                     Missing          None        Low    NaN  NaN  False   \n",
       "..                        ...           ...        ...    ...  ...    ...   \n",
       "166                   missing          None        Low    NaN  NaN  False   \n",
       "168                   missing          None        Low    NaN  NaN  False   \n",
       "171           as needed basis          None        Low    NaN  NaN  False   \n",
       "201                   Missing          None        Low    NaN  NaN  False   \n",
       "250                   missing          None        Low    NaN  NaN  False   \n",
       "\n",
       "                                       review_priority missing_or_not  \n",
       "0    High Priority Review because of Missing When F...        Missing  \n",
       "1    High Priority Review because of Missing When F...        Missing  \n",
       "2    High Priority Review because of Missing When F...        Missing  \n",
       "4    High Priority Review because of Missing When F...        Missing  \n",
       "5    High Priority Review because of Missing When F...        Missing  \n",
       "..                                                 ...            ...  \n",
       "166  High Priority Review because of Missing When F...        Missing  \n",
       "168  High Priority Review because of Missing When F...        Missing  \n",
       "171  High Priority Review because of Missing When F...        Missing  \n",
       "201  High Priority Review because of Missing When F...        Missing  \n",
       "250  High Priority Review because of Missing When F...        Missing  \n",
       "\n",
       "[64 rows x 10 columns]"
      ]
     },
     "execution_count": 12,
     "metadata": {},
     "output_type": "execute_result"
    }
   ],
   "source": [
    "df[df[\"found\"] == False]"
   ]
  },
  {
   "cell_type": "markdown",
   "id": "6adcfc32",
   "metadata": {},
   "source": [
    "### `similar()`"
   ]
  },
  {
   "cell_type": "code",
   "execution_count": 13,
   "id": "e7f3a6ac",
   "metadata": {},
   "outputs": [
    {
     "data": {
      "text/plain": [
       "0.9803053"
      ]
     },
     "execution_count": 13,
     "metadata": {},
     "output_type": "execute_result"
    }
   ],
   "source": [
    "similar(sent=[\"monthly basis\", \"on a monthly basis\"])"
   ]
  },
  {
   "cell_type": "code",
   "execution_count": 14,
   "id": "96f67563",
   "metadata": {},
   "outputs": [
    {
     "data": {
      "text/plain": [
       "0.8773786"
      ]
     },
     "execution_count": 14,
     "metadata": {},
     "output_type": "execute_result"
    }
   ],
   "source": [
    "similar(sent=[\"semi-annual basis\", \"on an semiannual basis\"])"
   ]
  },
  {
   "cell_type": "code",
   "execution_count": 15,
   "id": "a39320f2",
   "metadata": {},
   "outputs": [],
   "source": [
    "df[\"when_ans_freq\"] = df[\"when_ans_freq\"].apply(func=lambda row : \"missing\" if row is None else row)"
   ]
  },
  {
   "cell_type": "code",
   "execution_count": 16,
   "id": "056b6924",
   "metadata": {},
   "outputs": [
    {
     "name": "stdout",
     "output_type": "stream",
     "text": [
      "CPU times: user 6min 8s, sys: 22.8 s, total: 6min 30s\n",
      "Wall time: 1min 38s\n"
     ]
    }
   ],
   "source": [
    "%%time\n",
    "\n",
    "df[\"Frequency of the activity\"] = df[\"Frequency of the activity\"].str.strip().str.lower()\n",
    "df[\"when_ans_freq\"] = df[\"when_ans_freq\"].str.strip().str.lower()\n",
    "df[\"similarity\"] = df.apply(func=lambda row: similar(sent=[row[\"Frequency of the activity\"], row[\"when_ans_freq\"]]), \n",
    "                            axis=1)"
   ]
  },
  {
   "cell_type": "code",
   "execution_count": 17,
   "id": "8c88464c",
   "metadata": {},
   "outputs": [],
   "source": [
    "df[\"Frequency of the activity\"] = df[\"Frequency of the activity\"].apply(func=remove_stopwords)\n",
    "df[\"when_ans_freq\"] = df[\"when_ans_freq\"].apply(func=remove_stopwords)"
   ]
  },
  {
   "cell_type": "markdown",
   "id": "3a50dfdc",
   "metadata": {},
   "source": [
    "# `Conclusion:`"
   ]
  },
  {
   "cell_type": "markdown",
   "id": "c759333d",
   "metadata": {},
   "source": [
    "### `True Postive: 178 records`"
   ]
  },
  {
   "cell_type": "code",
   "execution_count": 18,
   "id": "7238f247",
   "metadata": {},
   "outputs": [
    {
     "name": "stdout",
     "output_type": "stream",
     "text": [
      "(178, 3)\n"
     ]
    },
    {
     "data": {
      "text/html": [
       "<div>\n",
       "<style scoped>\n",
       "    .dataframe tbody tr th:only-of-type {\n",
       "        vertical-align: middle;\n",
       "    }\n",
       "\n",
       "    .dataframe tbody tr th {\n",
       "        vertical-align: top;\n",
       "    }\n",
       "\n",
       "    .dataframe thead th {\n",
       "        text-align: right;\n",
       "    }\n",
       "</style>\n",
       "<table border=\"1\" class=\"dataframe\">\n",
       "  <thead>\n",
       "    <tr style=\"text-align: right;\">\n",
       "      <th></th>\n",
       "      <th>Frequency of the activity</th>\n",
       "      <th>when_ans_freq</th>\n",
       "      <th>similarity</th>\n",
       "    </tr>\n",
       "  </thead>\n",
       "  <tbody>\n",
       "    <tr>\n",
       "      <th>8</th>\n",
       "      <td>daily basis</td>\n",
       "      <td>daily basis</td>\n",
       "      <td>1.000000</td>\n",
       "    </tr>\n",
       "    <tr>\n",
       "      <th>45</th>\n",
       "      <td>semi-annually monthly</td>\n",
       "      <td>semi-annually</td>\n",
       "      <td>0.912689</td>\n",
       "    </tr>\n",
       "    <tr>\n",
       "      <th>46</th>\n",
       "      <td>monthly basis</td>\n",
       "      <td>monthly basis</td>\n",
       "      <td>1.000000</td>\n",
       "    </tr>\n",
       "    <tr>\n",
       "      <th>47</th>\n",
       "      <td>quarterly</td>\n",
       "      <td>quarterly</td>\n",
       "      <td>1.000000</td>\n",
       "    </tr>\n",
       "    <tr>\n",
       "      <th>48</th>\n",
       "      <td>monthly</td>\n",
       "      <td>monthly basis</td>\n",
       "      <td>0.959758</td>\n",
       "    </tr>\n",
       "    <tr>\n",
       "      <th>...</th>\n",
       "      <td>...</td>\n",
       "      <td>...</td>\n",
       "      <td>...</td>\n",
       "    </tr>\n",
       "    <tr>\n",
       "      <th>244</th>\n",
       "      <td>daily</td>\n",
       "      <td>daily basis</td>\n",
       "      <td>0.964258</td>\n",
       "    </tr>\n",
       "    <tr>\n",
       "      <th>245</th>\n",
       "      <td>monthly</td>\n",
       "      <td>monthly basis</td>\n",
       "      <td>0.959758</td>\n",
       "    </tr>\n",
       "    <tr>\n",
       "      <th>247</th>\n",
       "      <td>semi-annually</td>\n",
       "      <td>semi-annually</td>\n",
       "      <td>1.000000</td>\n",
       "    </tr>\n",
       "    <tr>\n",
       "      <th>248</th>\n",
       "      <td>monthly</td>\n",
       "      <td>monthly</td>\n",
       "      <td>1.000000</td>\n",
       "    </tr>\n",
       "    <tr>\n",
       "      <th>249</th>\n",
       "      <td>quarterly</td>\n",
       "      <td>quarterly</td>\n",
       "      <td>1.000000</td>\n",
       "    </tr>\n",
       "  </tbody>\n",
       "</table>\n",
       "<p>178 rows × 3 columns</p>\n",
       "</div>"
      ],
      "text/plain": [
       "    Frequency of the activity  when_ans_freq  similarity\n",
       "8                 daily basis    daily basis    1.000000\n",
       "45      semi-annually monthly  semi-annually    0.912689\n",
       "46              monthly basis  monthly basis    1.000000\n",
       "47                  quarterly      quarterly    1.000000\n",
       "48                    monthly  monthly basis    0.959758\n",
       "..                        ...            ...         ...\n",
       "244                     daily    daily basis    0.964258\n",
       "245                   monthly  monthly basis    0.959758\n",
       "247             semi-annually  semi-annually    1.000000\n",
       "248                   monthly        monthly    1.000000\n",
       "249                 quarterly      quarterly    1.000000\n",
       "\n",
       "[178 rows x 3 columns]"
      ]
     },
     "execution_count": 18,
     "metadata": {},
     "output_type": "execute_result"
    }
   ],
   "source": [
    "tp = df[ (df[\"Frequency of the activity\"] != \"missing\") & (df[\"when_ans_freq\"] != \"missing\") ]\n",
    "tp = tp[[\"Frequency of the activity\", \"when_ans_freq\", \"similarity\"]]\n",
    "tp = tp.loc[tp[\"similarity\"] >= 0.80]\n",
    "print(tp.shape)\n",
    "tp"
   ]
  },
  {
   "cell_type": "markdown",
   "id": "064237e7",
   "metadata": {},
   "source": [
    "### `True Negative: 62 records`"
   ]
  },
  {
   "cell_type": "code",
   "execution_count": 19,
   "id": "2f093a12",
   "metadata": {},
   "outputs": [
    {
     "name": "stdout",
     "output_type": "stream",
     "text": [
      "(62, 3)\n"
     ]
    },
    {
     "data": {
      "text/html": [
       "<div>\n",
       "<style scoped>\n",
       "    .dataframe tbody tr th:only-of-type {\n",
       "        vertical-align: middle;\n",
       "    }\n",
       "\n",
       "    .dataframe tbody tr th {\n",
       "        vertical-align: top;\n",
       "    }\n",
       "\n",
       "    .dataframe thead th {\n",
       "        text-align: right;\n",
       "    }\n",
       "</style>\n",
       "<table border=\"1\" class=\"dataframe\">\n",
       "  <thead>\n",
       "    <tr style=\"text-align: right;\">\n",
       "      <th></th>\n",
       "      <th>Frequency of the activity</th>\n",
       "      <th>when_ans_freq</th>\n",
       "      <th>similarity</th>\n",
       "    </tr>\n",
       "  </thead>\n",
       "  <tbody>\n",
       "    <tr>\n",
       "      <th>0</th>\n",
       "      <td>missing</td>\n",
       "      <td>missing</td>\n",
       "      <td>1.0</td>\n",
       "    </tr>\n",
       "    <tr>\n",
       "      <th>1</th>\n",
       "      <td>missing</td>\n",
       "      <td>missing</td>\n",
       "      <td>1.0</td>\n",
       "    </tr>\n",
       "    <tr>\n",
       "      <th>2</th>\n",
       "      <td>missing</td>\n",
       "      <td>missing</td>\n",
       "      <td>1.0</td>\n",
       "    </tr>\n",
       "    <tr>\n",
       "      <th>4</th>\n",
       "      <td>missing</td>\n",
       "      <td>missing</td>\n",
       "      <td>1.0</td>\n",
       "    </tr>\n",
       "    <tr>\n",
       "      <th>5</th>\n",
       "      <td>missing</td>\n",
       "      <td>missing</td>\n",
       "      <td>1.0</td>\n",
       "    </tr>\n",
       "    <tr>\n",
       "      <th>...</th>\n",
       "      <td>...</td>\n",
       "      <td>...</td>\n",
       "      <td>...</td>\n",
       "    </tr>\n",
       "    <tr>\n",
       "      <th>164</th>\n",
       "      <td>missing</td>\n",
       "      <td>missing</td>\n",
       "      <td>1.0</td>\n",
       "    </tr>\n",
       "    <tr>\n",
       "      <th>166</th>\n",
       "      <td>missing</td>\n",
       "      <td>missing</td>\n",
       "      <td>1.0</td>\n",
       "    </tr>\n",
       "    <tr>\n",
       "      <th>168</th>\n",
       "      <td>missing</td>\n",
       "      <td>missing</td>\n",
       "      <td>1.0</td>\n",
       "    </tr>\n",
       "    <tr>\n",
       "      <th>201</th>\n",
       "      <td>missing</td>\n",
       "      <td>missing</td>\n",
       "      <td>1.0</td>\n",
       "    </tr>\n",
       "    <tr>\n",
       "      <th>250</th>\n",
       "      <td>missing</td>\n",
       "      <td>missing</td>\n",
       "      <td>1.0</td>\n",
       "    </tr>\n",
       "  </tbody>\n",
       "</table>\n",
       "<p>62 rows × 3 columns</p>\n",
       "</div>"
      ],
      "text/plain": [
       "    Frequency of the activity when_ans_freq  similarity\n",
       "0                     missing       missing         1.0\n",
       "1                     missing       missing         1.0\n",
       "2                     missing       missing         1.0\n",
       "4                     missing       missing         1.0\n",
       "5                     missing       missing         1.0\n",
       "..                        ...           ...         ...\n",
       "164                   missing       missing         1.0\n",
       "166                   missing       missing         1.0\n",
       "168                   missing       missing         1.0\n",
       "201                   missing       missing         1.0\n",
       "250                   missing       missing         1.0\n",
       "\n",
       "[62 rows x 3 columns]"
      ]
     },
     "execution_count": 19,
     "metadata": {},
     "output_type": "execute_result"
    }
   ],
   "source": [
    "tn = df[(df[\"Frequency of the activity\"] == \"missing\") & (df[\"when_ans_freq\"] == \"missing\") ]\n",
    "tn = tn[[\"Frequency of the activity\", \"when_ans_freq\", \"similarity\"]]\n",
    "print(tn.shape)\n",
    "tn"
   ]
  },
  {
   "cell_type": "markdown",
   "id": "fdad2dbc",
   "metadata": {},
   "source": [
    "### `False Positive: 9 records; index 3, 10, 21, 51, 80, 99, 169, 243, 246`"
   ]
  },
  {
   "cell_type": "code",
   "execution_count": 20,
   "id": "f0ddc57d",
   "metadata": {},
   "outputs": [
    {
     "name": "stdout",
     "output_type": "stream",
     "text": [
      "(9, 3)\n"
     ]
    },
    {
     "data": {
      "text/html": [
       "<div>\n",
       "<style scoped>\n",
       "    .dataframe tbody tr th:only-of-type {\n",
       "        vertical-align: middle;\n",
       "    }\n",
       "\n",
       "    .dataframe tbody tr th {\n",
       "        vertical-align: top;\n",
       "    }\n",
       "\n",
       "    .dataframe thead th {\n",
       "        text-align: right;\n",
       "    }\n",
       "</style>\n",
       "<table border=\"1\" class=\"dataframe\">\n",
       "  <thead>\n",
       "    <tr style=\"text-align: right;\">\n",
       "      <th></th>\n",
       "      <th>Frequency of the activity</th>\n",
       "      <th>when_ans_freq</th>\n",
       "      <th>similarity</th>\n",
       "    </tr>\n",
       "  </thead>\n",
       "  <tbody>\n",
       "    <tr>\n",
       "      <th>3</th>\n",
       "      <td>missing</td>\n",
       "      <td>annual</td>\n",
       "      <td>0.366015</td>\n",
       "    </tr>\n",
       "    <tr>\n",
       "      <th>10</th>\n",
       "      <td>missing</td>\n",
       "      <td>month</td>\n",
       "      <td>0.284828</td>\n",
       "    </tr>\n",
       "    <tr>\n",
       "      <th>21</th>\n",
       "      <td>missing</td>\n",
       "      <td>adhoc</td>\n",
       "      <td>0.497060</td>\n",
       "    </tr>\n",
       "    <tr>\n",
       "      <th>51</th>\n",
       "      <td>missing</td>\n",
       "      <td>monthly</td>\n",
       "      <td>0.340274</td>\n",
       "    </tr>\n",
       "    <tr>\n",
       "      <th>80</th>\n",
       "      <td>missing</td>\n",
       "      <td>annually</td>\n",
       "      <td>0.298647</td>\n",
       "    </tr>\n",
       "    <tr>\n",
       "      <th>99</th>\n",
       "      <td>missing</td>\n",
       "      <td>monthly</td>\n",
       "      <td>0.340274</td>\n",
       "    </tr>\n",
       "    <tr>\n",
       "      <th>169</th>\n",
       "      <td>missing</td>\n",
       "      <td>semi-annually</td>\n",
       "      <td>0.489803</td>\n",
       "    </tr>\n",
       "    <tr>\n",
       "      <th>243</th>\n",
       "      <td>missing</td>\n",
       "      <td>quarterly</td>\n",
       "      <td>0.392856</td>\n",
       "    </tr>\n",
       "    <tr>\n",
       "      <th>246</th>\n",
       "      <td>missing</td>\n",
       "      <td>daily</td>\n",
       "      <td>0.288967</td>\n",
       "    </tr>\n",
       "  </tbody>\n",
       "</table>\n",
       "</div>"
      ],
      "text/plain": [
       "    Frequency of the activity  when_ans_freq  similarity\n",
       "3                     missing         annual    0.366015\n",
       "10                    missing          month    0.284828\n",
       "21                    missing          adhoc    0.497060\n",
       "51                    missing        monthly    0.340274\n",
       "80                    missing       annually    0.298647\n",
       "99                    missing        monthly    0.340274\n",
       "169                   missing  semi-annually    0.489803\n",
       "243                   missing      quarterly    0.392856\n",
       "246                   missing          daily    0.288967"
      ]
     },
     "execution_count": 20,
     "metadata": {},
     "output_type": "execute_result"
    }
   ],
   "source": [
    "fp = df[(df[\"similarity\"] < 0.80) & (df[\"when_ans_freq\"] != \"missing\")].loc[:, [\"Frequency of the activity\", \"when_ans_freq\", \"similarity\"]]\n",
    "print(fp.shape)\n",
    "fp"
   ]
  },
  {
   "cell_type": "markdown",
   "id": "1543ab56",
   "metadata": {},
   "source": [
    "### `False Negative: 2 records`"
   ]
  },
  {
   "cell_type": "code",
   "execution_count": 21,
   "id": "6d1d18c9",
   "metadata": {},
   "outputs": [
    {
     "name": "stdout",
     "output_type": "stream",
     "text": [
      "(2, 3)\n"
     ]
    },
    {
     "data": {
      "text/html": [
       "<div>\n",
       "<style scoped>\n",
       "    .dataframe tbody tr th:only-of-type {\n",
       "        vertical-align: middle;\n",
       "    }\n",
       "\n",
       "    .dataframe tbody tr th {\n",
       "        vertical-align: top;\n",
       "    }\n",
       "\n",
       "    .dataframe thead th {\n",
       "        text-align: right;\n",
       "    }\n",
       "</style>\n",
       "<table border=\"1\" class=\"dataframe\">\n",
       "  <thead>\n",
       "    <tr style=\"text-align: right;\">\n",
       "      <th></th>\n",
       "      <th>Frequency of the activity</th>\n",
       "      <th>when_ans_freq</th>\n",
       "      <th>similarity</th>\n",
       "    </tr>\n",
       "  </thead>\n",
       "  <tbody>\n",
       "    <tr>\n",
       "      <th>89</th>\n",
       "      <td></td>\n",
       "      <td>missing</td>\n",
       "      <td>0.491215</td>\n",
       "    </tr>\n",
       "    <tr>\n",
       "      <th>171</th>\n",
       "      <td>needed basis</td>\n",
       "      <td>missing</td>\n",
       "      <td>0.443429</td>\n",
       "    </tr>\n",
       "  </tbody>\n",
       "</table>\n",
       "</div>"
      ],
      "text/plain": [
       "    Frequency of the activity when_ans_freq  similarity\n",
       "89                                  missing    0.491215\n",
       "171              needed basis       missing    0.443429"
      ]
     },
     "execution_count": 21,
     "metadata": {},
     "output_type": "execute_result"
    }
   ],
   "source": [
    "fn = df[(df[\"Frequency of the activity\"] != \"missing\") & \n",
    "         (df[\"when_ans_freq\"] == \"missing\") ]\n",
    "fn = fn[[\"Frequency of the activity\", \"when_ans_freq\", \"similarity\"]]\n",
    "print(fn.shape)\n",
    "fn"
   ]
  },
  {
   "cell_type": "markdown",
   "id": "8e2596c2",
   "metadata": {},
   "source": [
    "### `Accuracy`"
   ]
  },
  {
   "cell_type": "code",
   "execution_count": 22,
   "id": "368f0f1c",
   "metadata": {},
   "outputs": [
    {
     "data": {
      "text/plain": [
       "0.9561752988047809"
      ]
     },
     "execution_count": 22,
     "metadata": {},
     "output_type": "execute_result"
    }
   ],
   "source": [
    "accuracy = (len(tp) + len(tn)) / (len(tp) + len(fp) + len(fn) + len(tn))\n",
    "accuracy"
   ]
  },
  {
   "cell_type": "markdown",
   "id": "474adfe9",
   "metadata": {},
   "source": [
    "### `Precision`"
   ]
  },
  {
   "cell_type": "code",
   "execution_count": 23,
   "id": "95e98eb0",
   "metadata": {},
   "outputs": [
    {
     "data": {
      "text/plain": [
       "0.9518716577540107"
      ]
     },
     "execution_count": 23,
     "metadata": {},
     "output_type": "execute_result"
    }
   ],
   "source": [
    "precision = len(tp) /  (len(tp) + len(fp))\n",
    "precision"
   ]
  },
  {
   "cell_type": "markdown",
   "id": "0c4fd1ae",
   "metadata": {},
   "source": [
    "### `Recall`"
   ]
  },
  {
   "cell_type": "code",
   "execution_count": 24,
   "id": "2926542e",
   "metadata": {},
   "outputs": [
    {
     "data": {
      "text/plain": [
       "0.9888888888888889"
      ]
     },
     "execution_count": 24,
     "metadata": {},
     "output_type": "execute_result"
    }
   ],
   "source": [
    "recall = len(tp) /  (len(tp) + len(fn))\n",
    "recall"
   ]
  },
  {
   "cell_type": "markdown",
   "id": "cf196bf1",
   "metadata": {},
   "source": [
    "### `F1-Score`"
   ]
  },
  {
   "cell_type": "code",
   "execution_count": 25,
   "id": "0004d6b6",
   "metadata": {},
   "outputs": [
    {
     "data": {
      "text/plain": [
       "0.9700272479564033"
      ]
     },
     "execution_count": 25,
     "metadata": {},
     "output_type": "execute_result"
    }
   ],
   "source": [
    "f1_score = 2 * precision * recall / (precision + recall)\n",
    "f1_score"
   ]
  },
  {
   "cell_type": "markdown",
   "id": "32c70c42",
   "metadata": {},
   "source": [
    "### `Confusion Matrix`"
   ]
  },
  {
   "cell_type": "code",
   "execution_count": 26,
   "id": "06be8fd7",
   "metadata": {},
   "outputs": [
    {
     "data": {
      "text/html": [
       "<div>\n",
       "<style scoped>\n",
       "    .dataframe tbody tr th:only-of-type {\n",
       "        vertical-align: middle;\n",
       "    }\n",
       "\n",
       "    .dataframe tbody tr th {\n",
       "        vertical-align: top;\n",
       "    }\n",
       "\n",
       "    .dataframe thead th {\n",
       "        text-align: right;\n",
       "    }\n",
       "</style>\n",
       "<table border=\"1\" class=\"dataframe\">\n",
       "  <thead>\n",
       "    <tr style=\"text-align: right;\">\n",
       "      <th></th>\n",
       "      <th>Postive</th>\n",
       "      <th>Negative</th>\n",
       "    </tr>\n",
       "  </thead>\n",
       "  <tbody>\n",
       "    <tr>\n",
       "      <th>Postive</th>\n",
       "      <td>178</td>\n",
       "      <td>9</td>\n",
       "    </tr>\n",
       "    <tr>\n",
       "      <th>Negative</th>\n",
       "      <td>2</td>\n",
       "      <td>62</td>\n",
       "    </tr>\n",
       "  </tbody>\n",
       "</table>\n",
       "</div>"
      ],
      "text/plain": [
       "          Postive  Negative\n",
       "Postive       178         9\n",
       "Negative        2        62"
      ]
     },
     "execution_count": 26,
     "metadata": {},
     "output_type": "execute_result"
    }
   ],
   "source": [
    "cm = pd.DataFrame(columns=[\"Postive\", \"Negative\"], index=[\"Postive\", \"Negative\"])\n",
    "cm[\"Postive\"], cm[\"Negative\"] = [len(tp), len(fn)], [len(fp), len(tn)]\n",
    "cm"
   ]
  },
  {
   "cell_type": "code",
   "execution_count": 27,
   "id": "4bfc3bef",
   "metadata": {},
   "outputs": [
    {
     "data": {
      "text/plain": [
       "251"
      ]
     },
     "execution_count": 27,
     "metadata": {},
     "output_type": "execute_result"
    }
   ],
   "source": [
    "cm.sum().sum()"
   ]
  },
  {
   "cell_type": "code",
   "execution_count": 28,
   "id": "22c2043d",
   "metadata": {},
   "outputs": [
    {
     "data": {
      "text/plain": [
       "251"
      ]
     },
     "execution_count": 28,
     "metadata": {},
     "output_type": "execute_result"
    }
   ],
   "source": [
    "len(df)"
   ]
  },
  {
   "cell_type": "markdown",
   "id": "e300e575",
   "metadata": {},
   "source": [
    "# `Other Metrics`"
   ]
  },
  {
   "cell_type": "markdown",
   "id": "b7529f43",
   "metadata": {},
   "source": [
    "### `True Positive Rate`"
   ]
  },
  {
   "cell_type": "code",
   "execution_count": 29,
   "id": "906b21ab",
   "metadata": {},
   "outputs": [
    {
     "data": {
      "text/plain": [
       "0.9888888888888889"
      ]
     },
     "execution_count": 29,
     "metadata": {},
     "output_type": "execute_result"
    }
   ],
   "source": [
    "len(tp) / (len(tp) + len(fn))"
   ]
  },
  {
   "cell_type": "markdown",
   "id": "640f5aa6",
   "metadata": {},
   "source": [
    "### `False Positive Rate`"
   ]
  },
  {
   "cell_type": "code",
   "execution_count": 30,
   "id": "6c689b51",
   "metadata": {},
   "outputs": [
    {
     "data": {
      "text/plain": [
       "0.1267605633802817"
      ]
     },
     "execution_count": 30,
     "metadata": {},
     "output_type": "execute_result"
    }
   ],
   "source": [
    "len(fp) / (len(fp) + len(tn))"
   ]
  },
  {
   "cell_type": "markdown",
   "id": "0f4b5ced",
   "metadata": {},
   "source": [
    "### `True Negative Rate`"
   ]
  },
  {
   "cell_type": "code",
   "execution_count": 31,
   "id": "f9714658",
   "metadata": {},
   "outputs": [
    {
     "data": {
      "text/plain": [
       "0.8732394366197183"
      ]
     },
     "execution_count": 31,
     "metadata": {},
     "output_type": "execute_result"
    }
   ],
   "source": [
    "len(tn) / (len(tn) + len(fp))"
   ]
  },
  {
   "cell_type": "markdown",
   "id": "248e7d69",
   "metadata": {},
   "source": [
    "### `False Negative Rate`"
   ]
  },
  {
   "cell_type": "code",
   "execution_count": 32,
   "id": "ce7d506f",
   "metadata": {},
   "outputs": [
    {
     "data": {
      "text/plain": [
       "0.011111111111111112"
      ]
     },
     "execution_count": 32,
     "metadata": {},
     "output_type": "execute_result"
    }
   ],
   "source": [
    "len(fn) / (len(fn) + len(tp))"
   ]
  },
  {
   "cell_type": "code",
   "execution_count": null,
   "id": "f7429258",
   "metadata": {},
   "outputs": [],
   "source": []
  }
 ],
 "metadata": {
  "kernelspec": {
   "display_name": "Python 3",
   "language": "python",
   "name": "python3"
  },
  "language_info": {
   "codemirror_mode": {
    "name": "ipython",
    "version": 3
   },
   "file_extension": ".py",
   "mimetype": "text/x-python",
   "name": "python",
   "nbconvert_exporter": "python",
   "pygments_lexer": "ipython3",
   "version": "3.6.13"
  }
 },
 "nbformat": 4,
 "nbformat_minor": 5
}
